{
 "cells": [
  {
   "cell_type": "markdown",
   "metadata": {
    "slideshow": {
     "slide_type": "slide"
    }
   },
   "source": [
    "# Modelo matemático y computacional para predecir el comportamiento de la Covid-19\n",
    "\n",
    "## Distanciamiento social como estrategia para ralentizar la propagación\n",
    "\n",
    "#### Elaborado por: \n",
    "\n",
    "***Carlos Alberto Álvarez Henao, I.C. DS.C*** ([carlosalvarezh@gmail.com](mailto:carlosalvarezh@gmail.com))\n",
    "\n",
    "Abril 15, 2020 - Medellín, Colombia\n",
    "\n",
    "***Nota:*** basado en los artículos publicados en:\n",
    "\n",
    "- [Social Distancing to Slow the Coronavirus -  Modeling the flattening of the COVID-19 peaks](https://towardsdatascience.com/social-distancing-to-slow-the-coronavirus-768292f04296 \"Towardsdatascience\"): By Christian Hubbs, in Towardsdatascience.com, Mar 12, 2020\n",
    "\n",
    "\n",
    "- [Why outbreaks like coronavirus spread exponentially, and how to “flatten the curve”](https://www.washingtonpost.com/graphics/2020/world/corona-simulator/): By Harry Stevens, in The Washington Post, Mar 14, 2020\n",
    "\n",
    "\n",
    "- [Prevendo o crescimento de casos de COVID-19 (coronavírus) no Brasil com análise de dados, gráficos e equações! — Partes 1 e 2](https://medium.com/@caiquecoelho/prevendo-o-crescimento-de-casos-de-covid-19-coronavirus-no-brasil-com-an%C3%A1lise-de-dados-gr%C3%A1ficos-33ee525b62f8): By Caíque Coelho, in Towardsdatascience.com. Mar 19\n",
    "\n",
    "\n",
    "- [Infectious Disease Modelling: Understanding the models that are used to model Coronavirus](https://towardsdatascience.com/infectious-disease-modelling-part-i-understanding-sir-28d60e29fdfc): By Henri Froese, in Towardsdatascience.com, Apr 06,2020\n",
    "\n",
    "\n",
    "- [Infectious Disease Modelling: Beyond the Basic SIR Model](https://towardsdatascience.com/infectious-disease-modelling-part-i-understanding-sir-28d60e29fdfc): By Henri Froese, in Towardsdatascience.com, Apr 11,2020 "
   ]
  },
  {
   "cell_type": "markdown",
   "metadata": {
    "slideshow": {
     "slide_type": "subslide"
    }
   },
   "source": [
    "# Contextualización\n",
    "\n",
    "Como es de ámplio conocimiento de todos hoy en día, la Covid-19 ha crecido rápidamente en todo el mundo. La gran mayoría de paises han tomado medidas drásticas frente a la movilidad de sus ciudadanos. Estas medidas se toman con la intención de retrasar la propagación (no detenerla) de la enfermedad. Este tipo de estrategia se denomina *Distanciamiento Social*.\n",
    "\n",
    "La idea detrás de esta política de salud pública es reducir el contacto *persona-a-persona* para que sea menos probable la propagación de la enfermedad y la capacidad de los sistemas de salud local no se saturen, ayudando a garantizar la adecuada atención a la población enferma y disminyendo la cantidad de decesos. Los efectos de una política en este sentido se pueden observar en la siguiente gráfica."
   ]
  },
  {
   "cell_type": "markdown",
   "metadata": {
    "slideshow": {
     "slide_type": "subslide"
    }
   },
   "source": [
    "![Aplanar la curva](https://miro.medium.com/max/700/1*pVVK99mWB21izaNiDVlgOg.gif)"
   ]
  },
  {
   "cell_type": "markdown",
   "metadata": {
    "slideshow": {
     "slide_type": "slide"
    }
   },
   "source": [
    "# Distanciamiento social - Definición\n",
    "\n",
    "“Conjunto de medidas no farmacéuticas de control de infecciones, con el objetivo de detener o desacelerar la propagación de una enfermedad contagiosa.” "
   ]
  },
  {
   "cell_type": "markdown",
   "metadata": {},
   "source": [
    "<p float=\"center\">\n",
    "  <img src=https://upload.wikimedia.org/wikipedia/commons/6/66/Social_distancing_queueing_for_the_supermarket_J._Sainsbury%27s_north_London_Coronavirus_Covid_19_pandemic_-_30_March_2020.jpg width=\"750\" />\n",
    "</p>"
   ]
  },
  {
   "cell_type": "markdown",
   "metadata": {},
   "source": [
    "<p float=\"center\">\n",
    "  <img src=https://upload.wikimedia.org/wikipedia/commons/f/fd/03.05_%E7%B8%BD%E7%B5%B1%E6%8E%A5%E8%A6%8B%E7%BE%8E%E5%9C%8B%E5%9C%A8%E8%87%BA%E5%8D%94%E6%9C%83%28AIT%29%E4%B8%BB%E5%B8%AD%E8%8E%AB%E5%81%A5.jpg width=\"250\" />\n",
    "</p>"
   ]
  },
  {
   "cell_type": "markdown",
   "metadata": {
    "slideshow": {
     "slide_type": "subslide"
    }
   },
   "source": [
    "<p float=\"left\">\n",
    "  <img src=https://github.com/carlosalvarezh/Covid-19-SEIRD/blob/master/DistSocial03.png?raw=true width=\"1000\" /> \n",
    "</p>"
   ]
  },
  {
   "cell_type": "markdown",
   "metadata": {
    "slideshow": {
     "slide_type": "slide"
    }
   },
   "source": [
    "# Distanciamiento social - Definición\n",
    "\n",
    "***Levítico, 13:46:*** \n",
    "\n",
    "<font size=1 color=\"black\" face=\"arial\">\n",
    "<h1 align=\"center\">“Todo el tiempo que la llaga estuviere en él, será inmundo; estará impuro, y habitará solo; fuera del campamento será su morada.”</h1>\n",
    "</font>\n",
    "\n",
    "\n",
    "\n",
    "\n",
    "Se han establecido colonias de leprosos y lazaretos como medios para impedir la transmisión de la lepra y otras enfermedades infecciosas."
   ]
  },
  {
   "cell_type": "markdown",
   "metadata": {},
   "source": [
    "***Lazareto - Ancona, Italia, 1700's***\n",
    "\n",
    "<p float=\"center\">\n",
    "  <img src=https://upload.wikimedia.org/wikipedia/commons/6/6d/Mole2.JPG width=\"500\" />\n",
    "</p>"
   ]
  },
  {
   "cell_type": "markdown",
   "metadata": {},
   "source": [
    "***Agua de Dios, Colombia, 1870's***\n",
    "<p float=\"center\">\n",
    "  <img src=https://upload.wikimedia.org/wikipedia/commons/thumb/3/39/Colombia_-_Cundinamarca_-_Agua_de_Dios.svg/800px-Colombia_-_Cundinamarca_-_Agua_de_Dios.svg.png width=\"500\" />\n",
    "</p>"
   ]
  },
  {
   "cell_type": "markdown",
   "metadata": {},
   "source": [
    "# Simulación física de dispersión de gotículas\n",
    "\n",
    "\n",
    "Veamos primer una serie de simulaciones computacionales de la dispersión de partículas producto de la tos humana empleando técnicas de la [CFD](https://en.wikipedia.org/wiki/Computational_fluid_dynamics \"CFD\") (Dinámica de Fluidos Computaconal) y empleando un software comercial"
   ]
  },
  {
   "cell_type": "code",
   "execution_count": 1,
   "metadata": {},
   "outputs": [
    {
     "data": {
      "text/html": [
       "\n",
       "        <iframe\n",
       "            width=\"980\"\n",
       "            height=\"500\"\n",
       "            src=\"https://www.ansys.com/about-ansys/covid-19-simulation-insights\"\n",
       "            frameborder=\"0\"\n",
       "            allowfullscreen\n",
       "        ></iframe>\n",
       "        "
      ],
      "text/plain": [
       "<IPython.lib.display.IFrame at 0x2343df66978>"
      ]
     },
     "execution_count": 1,
     "metadata": {},
     "output_type": "execute_result"
    }
   ],
   "source": [
    "from IPython.display import IFrame\n",
    "\n",
    "URL = 'https://www.ansys.com/about-ansys/covid-19-simulation-insights'\n",
    "IFrame(src = URL, width = 980, height = 500)"
   ]
  },
  {
   "cell_type": "markdown",
   "metadata": {},
   "source": [
    "# Modelos matemáticos\n",
    "\n",
    "Los modelos matemáticos son aproximaciones, bien sustentadas y justificadas, de la realidad y en este contexto intentan brindar elementos a la toma de decisiones de políticas públicas para intentan aplanar la curva de propagación de la enfermedad."
   ]
  },
  {
   "cell_type": "code",
   "execution_count": 2,
   "metadata": {},
   "outputs": [
    {
     "data": {
      "text/html": [
       "\n",
       "        <iframe\n",
       "            width=\"980\"\n",
       "            height=\"600\"\n",
       "            src=\"https://www.washingtonpost.com/graphics/2020/world/corona-simulator-spanish/\"\n",
       "            frameborder=\"0\"\n",
       "            allowfullscreen\n",
       "        ></iframe>\n",
       "        "
      ],
      "text/plain": [
       "<IPython.lib.display.IFrame at 0x2343df6b6d8>"
      ]
     },
     "execution_count": 2,
     "metadata": {},
     "output_type": "execute_result"
    }
   ],
   "source": [
    "URL = 'https://www.washingtonpost.com/graphics/2020/world/corona-simulator-spanish/'\n",
    "IFrame(src = URL, width = 980, height = 600)"
   ]
  },
  {
   "cell_type": "markdown",
   "metadata": {},
   "source": [
    "# S.I.R\n",
    "\n",
    "una estrategia empleada para modelar enfermedades contagiosas, que pueden propagarse entre los miembros de una población, es el modelo comportamental. Este tipo de modelo separa una población en diferentes comportamientos. La idea es obtener informacion acerca de qué tan rápido sucede dicha propagación, qué proporción de la población se infecta, qué proporción moriría, etc. Diferentes comportamientos se pueden indicar como (modelo básico):\n",
    "\n",
    "- **S**usceptible (aún puede estar infectado, \"sano\")\n",
    "\n",
    "\n",
    "- **I**nfectado\n",
    "\n",
    "\n",
    "- **R**ecuperado (ha sido infectado y no puede volver a infectarse)\n",
    "\n",
    "Para definir las variables involucradas en este simple modelo veamos el siguiente ejemplo."
   ]
  },
  {
   "cell_type": "markdown",
   "metadata": {},
   "source": [
    "## Ejemplo\n",
    "\n",
    "Supóngase que se tiene una población de $1000$ habitantes ($N=1000$) y se sabe que $400$ de ellas se han infectado en un tiempo, $t$, de $7$ días después del brote de la epidemia. Lo anterior se puede denotar como $S(7)=400$. En esta nueva enfermedad, la probabilidad de que una persona infectada infecte a una persona sana es del $20\\%$, y supongamos que el número promedio de personas con las que una persona está en contacto por día es de $5$. Entonces, por día, un individuo infectado se encuentra con $5$ personas resultando infectadas el $20\\%$ de ellas, es decir, la persona enferma infectará a $1$ persona por día. Se denota a esto con el parámetro $\\beta$, que es la cantidad esperada de personas que una persona infectada infecta por día.\n",
    "\n",
    "Sea $D$ la cantidad de días que una persona infectada tiene y puede transmitir la enfermedad, este dato es extremadamente importante. Si $D = 7$, una persona infectada camina durante siete días propagando la enfermedad e infecta a $1$ persona por día ($\\beta = 1$). Entonces, esperamos que una persona infectada infecte a $7$ personas más. Este es el número de reproducción básico, $R_0$, que representa el número total de personas que infecta una persona infectada, es decir, $R_0=\\beta \\times D$.\n",
    "\n",
    "Si se piensa en $D$ como el número de días que una persona infectada tiene la enfermedad, entonces se puede pensar en otro parámetro $\\gamma$, como la tasa de recuperación, o la proporción de infectados que se recuperan por día. Por ejemplo, si se tienen actualmente $30$ personas infectadas y $D=3$ (por lo que están infectadas durante tres días), entonces, por día $1/3$ de ellas se recuperarán ($10$ personas), es decir, $\\gamma=1/3$. Siendo $\\gamma=1/D$, entonces $D=1/\\gamma$ y $R_0=\\beta \\times D$, se deduce que $R_0=\\beta / \\gamma$."
   ]
  },
  {
   "cell_type": "markdown",
   "metadata": {},
   "source": [
    "Resumiendo, las variables involucradas en el ejemplo anterior son:\n",
    "\n",
    "- $N$: Total de la población\n",
    "\n",
    "\n",
    "- $S(t)$: Número de personas susceptibles de ser infectadas en un día $t$\n",
    "\n",
    "\n",
    "- $I(t)$: Número de personas infectadas en un día $t$\n",
    "\n",
    "\n",
    "- $R(t)$: Número de personas recuperadas en un día $t$\n",
    "\n",
    "\n",
    "\n",
    "- $\\beta$: Cantidad esperada de personas que una persona infectada infecta por día\n",
    "\n",
    "\n",
    "- $D$: Número de días que una persona infectada tiene y puede transmitir la enfermedad\n",
    "\n",
    "\n",
    "- $\\gamma$: Proporción de infectados recuperados por día ($\\gamma = 1/D$)\n",
    "\n",
    "\n",
    "\n",
    "- $R_0$: Número total de personas infectadas por una persona infectada ($R_0=\\beta / \\gamma$)\n",
    "\n",
    "\n"
   ]
  },
  {
   "cell_type": "markdown",
   "metadata": {},
   "source": [
    "# Derivación de las ecuaciones\n",
    "\n",
    "Deseamos determinar el número de *infectados*, *susceptibles* y *recuperados* para todos los días, dados únicamente los parámetros $\\gamma$, $\\beta$ y $N$. Es difícil obtener una fórmula directa para $S(t)$, $I(t)$ y $R(t)$, sin embargo, es muy simple describir el cambio por día de $S$, $I$ y $R$, es decir, como cambia el número de *susceptibles* / *infectados* / *recuperados* dependiendo de los actuales valores.\n",
    "\n",
    "Ahora estamos en el día $t$ después del brote de la enfermedad. Aún así, la cantidad esperada de personas que una persona infectada infecta por día es $1$ ($\\beta = 1$) y el número de días que una persona infectada tiene y puede transmitir la enfermedad es $7$ ($\\gamma =1/7$ y $D=7$).\n",
    "\n",
    "Digamos que en el día $t$, $60$ personas están infectadas, $I (t) = 60$, la población total es $100$, $N = 100$, y $30$ personas aún son susceptibles, $S(t) = 30$ y $R( t) = 100–60–30 = 10$. Ahora, ¿cómo cambian $S(t)$, $I(t)$ y $R(t)$ al día siguiente?\n",
    "\n",
    "Se tienen $60$ personas infectadas. Cada uno de ellos infecta a $\\beta = 1$ persona por día. Sin embargo, solo $30/100 = 30\\%$ de las personas conocidas todavía son susceptibles y pueden infectarse (eso es $S(t) / N$). Entonces, infectan a $60 \\times 1 \\times 30/100 = 18$ personas (de nuevo, piensen en ello hasta que tenga sentido: $60$ infectados que infectan en promedio $1$ persona por día, pero solo $30$ de $100$ personas aún pueden estar infectadas, por lo que no infecte a $60 \\times 1$ personas, sino que solo a $60 \\times 1 \\times 30 / 100 = 18$ personas). Entonces, $18$ personas de los susceptibles se infectan, por lo que $S(t)$ cambia en menos $18$. Al conectar las variables, acabamos de derivar la primera fórmula:\n",
    "\n",
    "$$\\text{cambio de } S(t) \\text{ al día siguiente } = -\\beta \\cdot I(t) \\cdot S(t) / N$$\n",
    "\n",
    "Lo anterior es la expresión de la deriva, $S'(t) = dS/dt$, y reescribiendo\n",
    "\n",
    "$$S'(t) = dS(t)/dt = -\\beta \\cdot I(t) \\cdot S(t) / N$$"
   ]
  },
  {
   "cell_type": "markdown",
   "metadata": {},
   "source": [
    "Ahora, ¿cómo cambia la cantidad de infectados? hay algunas personas nuevas infectadas. Exactamente la cantidad de personas que \"*salen*\" de $S(t)$ \"*llegan*\" a $I(t)$. Entonces, tenemos $18$ nuevos infectados y ya sabemos que la fórmula será similar a esta: $I'(t)= + β \\times I(t) \\times S(t)/N$ (se gana la cantidad exacta que $S(t)$ pierde, por lo que simplementese cambia el signo). Solo falta una cosa: algunas personas se recuperan. Recuerde, tenemos $\\gamma$ para eso, es la proporción de infectados que se recuperan por día, ¡eso es justo lo que necesitamos!\n",
    "\n",
    "Tenemos $60$ infectados y $\\gamma = 1/3$, por lo que un tercio de los $60$ se recupera. Eso es $1/3 \\times 60 = 20$. Finalmente, obtenemos la fórmula:\n",
    "\n",
    "$$I'(t) = dI(t)/dt = \\beta \\cdot I(t) \\cdot S(t) / N - \\gamma \\cdot I(t)$$\n",
    "\n",
    "El primer término del lado derecho de la ecuación es el recién infectado de los susceptibles. La segunda parte son las recuperaciones.\n",
    "\n",
    "Finalmente, llegamos a la última fórmula, el cambio en las recuperaciones. Los recién recuperados son exactamente los $20$ que acabamos de calcular; no hay personas saliendo del compartimento \"*recuperado*\". Se asume que una vez recuperados, permanecen inmunes:\n",
    "\n",
    "$$R'(t) = dR(t)/dt = \\gamma \\cdot I(t)$$"
   ]
  },
  {
   "cell_type": "markdown",
   "metadata": {},
   "source": [
    "Ya contamos con las fórmulas que se buscaban:\n",
    "\n",
    "$$\n",
    "\\begin{align}\n",
    "\\frac{dS}{dt} & = -\\beta \\cdot I \\cdot \\frac{S}{N} \\\\\n",
    "\\frac{dI}{dt} & = \\beta \\cdot I \\cdot \\frac{S}{N} - \\gamma \\cdot I \\\\\n",
    "\\frac{dR}{dt} & = \\gamma \\cdot I\n",
    "\\end{align}\n",
    "$$\n",
    "\n",
    "Este es un conjunto de Ecuaciones Diferenciales Ordinarias (ODEs).\n",
    "\n",
    "Ahora podemos describir el cambio en el número de personas *susceptibles*, *infectadas* y *recuperadas*. A partir de estas fórmulas, afortunadamente, podemos calcular los números que realmente nos interesan: $S(t)$, $I(t)$ y $R(t)$, el número de personas *susceptibles*, *infectadas* y *recuperadas* por cada día $t$."
   ]
  },
  {
   "cell_type": "markdown",
   "metadata": {},
   "source": [
    "# Codificando el modelo\n",
    "\n",
    "Ahora vamos a codificar las ecuaciones. Se emplearán los códigos implementados en [Infectious Disease Modelling: Understanding the models that are used to model Coronavirus](https://towardsdatascience.com/infectious-disease-modelling-part-i-understanding-sir-28d60e29fdfc): By Henri Froese, in Towardsdatascience.com, Apr 06, 2020. El código completo lo pueden descargar de [su sitio en GitHub](https://github.com/hf2000510/infectious_disease_modelling)."
   ]
  },
  {
   "cell_type": "markdown",
   "metadata": {},
   "source": [
    "Inicialmente se definiran los parámetros $N$, $\\beta$, $D$, $\\gamma$, y las condiciones iniciales, en $t=0$, para $S(t)$, $I(t)$ y  $R_0(t)$. "
   ]
  },
  {
   "cell_type": "code",
   "execution_count": 3,
   "metadata": {},
   "outputs": [],
   "source": [
    "import numpy as np\n",
    "from scipy.integrate import odeint\n",
    "import matplotlib.pyplot as plt"
   ]
  },
  {
   "cell_type": "code",
   "execution_count": 4,
   "metadata": {},
   "outputs": [],
   "source": [
    "N = 1000\n",
    "beta = 1.0  # infected person infects 1 other person per day\n",
    "D = 4.0 # infections lasts four days\n",
    "gamma = 1.0 / D\n",
    "\n",
    "S0, I0, R0 = 999, 1, 0  # initial conditions: one infected, rest susceptible"
   ]
  },
  {
   "cell_type": "markdown",
   "metadata": {},
   "source": [
    "Ahora se implementarán las fórmulas determinadas"
   ]
  },
  {
   "cell_type": "code",
   "execution_count": 5,
   "metadata": {},
   "outputs": [],
   "source": [
    "def deriv(y, t, N, beta, gamma):\n",
    "    S, I, R = y\n",
    "    dSdt = -beta * S * I / N\n",
    "    dIdt = beta * S * I / N - gamma * I\n",
    "    dRdt = gamma * I\n",
    "    return dSdt, dIdt, dRdt"
   ]
  },
  {
   "cell_type": "markdown",
   "metadata": {},
   "source": [
    "Ahora aquí es donde ocurre la magia: obtenemos nuestros valores $S(t)$, $I(t)$ y $R(t)$ de la función `odeint` de `Python` que toma las fórmulas que definimos anteriormente, las condiciones iniciales y nuestras variables $N$, $\\beta$ y $\\gamma$, y calcula $S$, $I$ y $R$ para cada uno de los siguientes $50$ días."
   ]
  },
  {
   "cell_type": "code",
   "execution_count": 6,
   "metadata": {},
   "outputs": [],
   "source": [
    "t = np.linspace(0, 50, 50) # Grid of time points (in days)\n",
    "y0 = S0, I0, R0 # Initial conditions vector\n",
    "\n",
    "# Integrate the SIR equations over the time grid, t.\n",
    "ret = odeint(deriv, y0, t, args=(N, beta, gamma))\n",
    "S, I, R = ret.T"
   ]
  },
  {
   "cell_type": "code",
   "execution_count": 7,
   "metadata": {},
   "outputs": [],
   "source": [
    "def plotsir(t, S, I, R):\n",
    "    f, ax = plt.subplots(1,1,figsize=(10,4))\n",
    "    ax.plot(t, S, 'b', alpha=0.7, linewidth=2, label='Susceptible')\n",
    "    ax.plot(t, I, 'y', alpha=0.7, linewidth=2, label='Infected')\n",
    "    ax.plot(t, R, 'g', alpha=0.7, linewidth=2, label='Recovered')\n",
    "    \n",
    "    ax.set_xlabel('Time (days)')\n",
    "    \n",
    "    ax.yaxis.set_tick_params(length=0)\n",
    "    ax.xaxis.set_tick_params(length=0)\n",
    "    ax.grid(b=True, which='major', c='w', lw=2, ls='-')\n",
    "    legend = ax.legend()\n",
    "    legend.get_frame().set_alpha(0.5)\n",
    "    for spine in ('top', 'right', 'bottom', 'left'):\n",
    "        ax.spines[spine].set_visible(False)\n",
    "    plt.show();\n",
    "    "
   ]
  },
  {
   "cell_type": "code",
   "execution_count": 8,
   "metadata": {},
   "outputs": [
    {
     "data": {
      "image/png": "[encoded data removed]",
      "text/plain": [
       "<Figure size 720x288 with 1 Axes>"
      ]
     },
     "metadata": {
      "needs_background": "light"
     },
     "output_type": "display_data"
    }
   ],
   "source": [
    "plotsir(t, S, I, R)"
   ]
  },
  {
   "cell_type": "markdown",
   "metadata": {},
   "source": [
    "Como puede ver, solo toma alrededor de $30$ días para que casi una población completa de $1000$ personas se infecte. Por supuesto, la enfermedad modelada aquí tiene un valor $R_0$ muy alto de $4.0$. Simplemente cambiando el número de personas que una persona infectada infecta por día $\\beta$ a $0.5$ resulta en un escenario completamente diferente:"
   ]
  },
  {
   "cell_type": "code",
   "execution_count": 9,
   "metadata": {},
   "outputs": [],
   "source": [
    "N = 1000\n",
    "beta = 0.50  # infected person infects 1 other person per day\n",
    "D = 4.0 # infections lasts four days\n",
    "gamma = 1.0 / D\n",
    "\n",
    "S0, I0, R0 = 999, 1, 0  # initial conditions: one infected, rest susceptible"
   ]
  },
  {
   "cell_type": "code",
   "execution_count": 10,
   "metadata": {},
   "outputs": [],
   "source": [
    "t = np.linspace(0, 50, 50) # Grid of time points (in days)\n",
    "y0 = S0, I0, R0 # Initial conditions vector\n",
    "\n",
    "# Integrate the SIR equations over the time grid, t.\n",
    "ret = odeint(deriv, y0, t, args=(N, beta, gamma))\n",
    "S, I, R = ret.T"
   ]
  },
  {
   "cell_type": "code",
   "execution_count": 11,
   "metadata": {},
   "outputs": [
    {
     "data": {
      "image/png": "[encoded data removed]",
      "text/plain": [
       "<Figure size 720x288 with 1 Axes>"
      ]
     },
     "metadata": {
      "needs_background": "light"
     },
     "output_type": "display_data"
    }
   ],
   "source": [
    "plotsir(t, S, I, R)"
   ]
  },
  {
   "cell_type": "markdown",
   "metadata": {},
   "source": [
    "Como puede ver, estos sistemas de EDO son extremadamente sensibles a los parámetros iniciales. Esa es también la razón por la cual es tan difícil modelar correctamente un brote emergente de una nueva enfermedad: simplemente no sabemos cuáles son los parámetros, e incluso los cambios leves producen resultados muy diferentes."
   ]
  },
  {
   "cell_type": "markdown",
   "metadata": {},
   "source": [
    "# Conclusiones\n",
    "\n",
    "El modelo S.I.R. es un modelo simple de la manera como se puede transmitir una enfermedad contagiosa en un grupo de personas, sin embargo, como todo modelo, aunque se trata de describir la realidad, son más las inquietudes que resultan que las respuestas que ofrece. Todo dependerá de los parámetros que se tienen en cuenta y la calidad de la información, datos, con que se cuente."
   ]
  },
  {
   "cell_type": "markdown",
   "metadata": {},
   "source": [
    "# *S.E.I.R*\n",
    "\n",
    "\n",
    "En la literatura existen otros modelos más completos, y complejos, como el SEIR, que es una extensión del S.I.R. y que considera, además de los parámetros vistos, otros como:\n",
    "\n",
    "- Un estado \"***Deceso***\" que contempla las personas que fallecen debido a la enfermedad.\n",
    "\n",
    "\n",
    "- Un estado \"***Expuesto***\" para individuos que han contraído la enfermedad pero que aún no son infecciosos (este es conocido como el modelo ***S.E.I.R.***)\n",
    "\n",
    "\n",
    "- Valores de $R_0$ dependientes del tiempo que nos permitirán modelar cuarentenas, bloqueos, ...\n",
    "\n",
    "\n",
    "- Tasas de mortalidad dependientes de los recursos y la edad que nos permitirán modelar hospitales superpoblados, poblaciones con muchos jóvenes, ...\n",
    "\n",
    "\n",
    "entre muchos otros posibles parámetros adicionales, que podrían complementar el modelo, pero lo harían mucho más complejo."
   ]
  },
  {
   "cell_type": "markdown",
   "metadata": {},
   "source": [
    "Al derivar las ecuaciones, ya las consideramos intuitivamente como \"*instrucciones*\" que nos dicen lo que le sucede a la población al día siguiente (por ejemplo, cuando $10$ personas están infectadas y la recuperación se produce a un ritmo de $\\gamma = 1/5$, entonces el número de individuos recuperados al día siguiente debería aumentar en $1/5 \\times 10 = 2$). Ahora solidificamos esta comprensión de las ecuaciones como \"*direcciones*\" o \"*transiciones*\" de un compartimento $S$, $I$ o $R$ a otro; esto simplificará enormemente las cosas cuando introduzcamos más compartimentos más adelante y las ecuaciones se vuelvan confusas."
   ]
  },
  {
   "cell_type": "markdown",
   "metadata": {},
   "source": [
    "## Definiciones\n",
    "\n",
    "Los *compartimientos* son cajas, que denotan \"*estados*\", como este:\n",
    "\n",
    "<p float=\"center\">\n",
    "  <img src=https://miro.medium.com/max/275/1*hJPP0FLd-92bV16JPU0_-g.png width=\"250\" />\n",
    "</p>\n",
    "\n",
    "Las *transiciones* de un compartimento a otro se representan mediante flechas, con el siguiente etiquetado:\n",
    "\n",
    "<p float=\"center\">\n",
    "  <img src=https://miro.medium.com/max/920/1*5caEXgP-6ZG7HkrPECKAEA.png width=\"500\" />\n",
    "</p>\n",
    "\n",
    "La *tasa* describe cuánto tiempo dura la transición, la *población* es el grupo de individuos a los que se aplica esta transición, y la *probabilidad* es la probabilidad de que la transición tenga lugar para un individuo."
   ]
  },
  {
   "cell_type": "markdown",
   "metadata": {},
   "source": [
    "### Ejemplo\n",
    "\n",
    "Supongamos la transición de *Susceptibles* a *Infectados* en las ecuaciones $S.I.R.$, con $\\beta=2$, una población total de $100$, $10$ infectados y $90$ susceptibles. La tasa es $1$, ya que las infecciones ocurren de inmediato; la población a la que se aplica la transición es $2 \\times 10 = 20$ individuos, ya que los $10$ infectados infectan a $2$ personas; la probabilidad es del $90\\%$, ya que $90/100$ personas aún pueden estar infectadas. Corresponde a esta notación intuitiva:\n",
    "\n",
    "<p float=\"center\">\n",
    "  <img src=https://miro.medium.com/max/1222/1*We4K9njCiEMowVuran4mWA.png width=\"350\" />\n",
    "</p>\n"
   ]
  },
  {
   "cell_type": "markdown",
   "metadata": {},
   "source": [
    "De forma más general, para todo el modelo (para $I \\rightarrow R$, la *tasa* es $\\gamma$ y la probabilidad es $1$ a medida que todos se recuperarán)\n",
    "\n",
    "<p float=\"center\">\n",
    "  <img src=https://miro.medium.com/max/1400/1*NNO-CdlCZORoPYtllW343A.png width=\"750\" />\n",
    "</p>\n",
    "\n",
    "Como puede verse, las flechas que apuntan hacia un compartimento se agregan en la ecuación; las flechas que apuntan lejos de un compartimento se restan. Es una forma gráfica de presentar las ecuaciones determinadas arriba.\n",
    "\n",
    "$$\n",
    "\\begin{align}\n",
    "\\frac{dS}{dt} & = -\\beta \\cdot I \\cdot \\frac{S}{N} \\\\\n",
    "\\frac{dI}{dt} & = \\beta \\cdot I \\cdot \\frac{S}{N} - \\gamma \\cdot I \\\\\n",
    "\\frac{dR}{dt} & = \\gamma \\cdot I\n",
    "\\end{align}\n",
    "$$"
   ]
  },
  {
   "cell_type": "markdown",
   "metadata": {},
   "source": [
    "Aunque ya tengamos un mejor entendimiento del modelo $S.I.R.$, e incluso se haya codificado en un lenguaje de programación como `python`, los resultados obtenidos no representan muy bien la realidad, y por ahora no deja de ser un simple \"juguete\" interesante. \n",
    "\n",
    "Vamos a tratar de \"mejorar\" este modelo básico incluyendo otros \"compartimientos\""
   ]
  },
  {
   "cell_type": "markdown",
   "metadata": {},
   "source": [
    "# Introduciendo nuevos Compartimientos"
   ]
  },
  {
   "cell_type": "markdown",
   "metadata": {},
   "source": [
    "## Obteniendo el compartimiento de *Expuestos*\n",
    "\n",
    "Muchas enfermedades infecciosas tienen un período de incubación antes de ser infecciosas durante el cual el huésped aún no puede transmitir la enfermedad. Llamaremos a tales individuos, y a todo el compartimento, *expuestos*.\n",
    "\n",
    "Intuitivamente, tendremos transiciones de la forma $S \\rightarrow E \\rightarrow I \\rightarrow R$: las personas susceptibles pueden contraer el virus y así quedar expuestos, luego infectados y luego recuperados. La nueva transición $S \\rightarrow E$ tendrá la misma flecha que la transición $S \\rightarrow I$ actual, ya que la probabilidad es la misma (todos los *susceptibles* pueden estar *expuestos*), la tasa es la misma (\"*exposición*\" ocurre inmediatamente) y la población es igual (los individuos infecciosos pueden propagar la enfermedad y cada uno expone a $\\beta$ nuevos individuos por día). Tampoco hay razón para que la transición de $I$ a $R$ cambie. La única nueva transición es la de $E$ a $I$: la probabilidad es $1$ (todos los que están expuestos se infectan), la población es $E$ (todos los expuestos se infectarán) y la tasa obtiene una nueva variable, $\\delta$(delta). Llegamos a estas transiciones:\n",
    "\n",
    "<p float=\"left\">\n",
    "  <img src=https://miro.medium.com/max/1400/1*B-HZLpVWEgAZ3iloHBJjCA.png width=\"750\" />\n",
    "</p>\n",
    "\n"
   ]
  },
  {
   "cell_type": "markdown",
   "metadata": {},
   "source": [
    "De estas transiciones, podemos derivar inmediatamente las nuevas ecuaciones:\n",
    "\n",
    "$$\n",
    "\\begin{align}\n",
    "\\frac{dS}{dt} & = -\\beta \\cdot I \\cdot \\frac{S}{N} \\\\\n",
    "\\frac{dE}{dt} & = \\beta \\cdot I \\cdot \\frac{S}{N} - \\delta \\cdot E\\\\\n",
    "\\frac{dI}{dt} & = \\delta \\cdot E - \\gamma \\cdot I \\\\\n",
    "\\frac{dR}{dt} & = \\gamma \\cdot I\n",
    "\\end{align}\n",
    "$$"
   ]
  },
  {
   "cell_type": "markdown",
   "metadata": {},
   "source": [
    "## Programando el compartimiento de *Expuestos*\n",
    "\n",
    "Retomando el código realizado antes y cambiando algunas líneas para adicionarle los nuevos compartimientos. Como ejemplo se modelará una enfermedad altamente infecciosa, $R_0=5.0$ en una población de $1$ millón, con un periodo de incubación de $5$ días y una recuperación de $7$ días."
   ]
  },
  {
   "cell_type": "code",
   "execution_count": 12,
   "metadata": {},
   "outputs": [],
   "source": [
    "def plotsir(t, S, E, I, R):\n",
    "    f, ax = plt.subplots(1,1,figsize=(10,4))\n",
    "    ax.plot(t, S, 'b', alpha=0.7, linewidth=2, label='Susceptible')\n",
    "    ax.plot(t, E, 'y', alpha=0.7, linewidth=2, label='Expuesto')\n",
    "    ax.plot(t, I, 'r', alpha=0.7, linewidth=2, label='Infectado')\n",
    "    ax.plot(t, R, 'g', alpha=0.7, linewidth=2, label='Recuperado')\n",
    "    \n",
    "    ax.set_xlabel('Tiempo (dias)')\n",
    "    ax.set_ylabel('Población (habitantes)')\n",
    "    \n",
    "    ax.yaxis.set_tick_params(length=0)\n",
    "    ax.xaxis.set_tick_params(length=0)\n",
    "    ax.grid(b=True, which='major', c='w', lw=2, ls='-')\n",
    "    legend = ax.legend()\n",
    "    legend.get_frame().set_alpha(0.5)\n",
    "    for spine in ('top', 'right', 'bottom', 'left'):\n",
    "        ax.spines[spine].set_visible(False)\n",
    "    plt.show();"
   ]
  },
  {
   "cell_type": "markdown",
   "metadata": {},
   "source": [
    "Función para determinar las derivadas de las funciones"
   ]
  },
  {
   "cell_type": "code",
   "execution_count": 13,
   "metadata": {},
   "outputs": [],
   "source": [
    "def deriv(y, t, N, beta, gamma, delta):\n",
    "    S, E, I, R = y\n",
    "    dSdt = -beta * S * I / N\n",
    "    dEdt = beta * S * I / N - delta * E\n",
    "    dIdt = delta * E - gamma * I\n",
    "    dRdt = gamma * I\n",
    "    return dSdt, dEdt, dIdt, dRdt"
   ]
  },
  {
   "cell_type": "markdown",
   "metadata": {},
   "source": [
    "Determinación de los valores iniciales"
   ]
  },
  {
   "cell_type": "code",
   "execution_count": 14,
   "metadata": {},
   "outputs": [],
   "source": [
    "N = 1000000\n",
    "D = 4.0 # infections lasts four days\n",
    "gamma = 1.0 / D\n",
    "delta = 1.0 / 5.0  # incubation period of three days\n",
    "R_0 = 5.0\n",
    "beta = R_0 * gamma # infected person infects 1 other person per day\n",
    "\n",
    "S0, E0, I0, R0 = N-1, 1, 0, 0  # initial conditions: one exposed"
   ]
  },
  {
   "cell_type": "markdown",
   "metadata": {},
   "source": [
    "Cálculo de $S,E,I$ y $R$ para todo el tiempo de simulación (100 días)"
   ]
  },
  {
   "cell_type": "code",
   "execution_count": 15,
   "metadata": {},
   "outputs": [],
   "source": [
    "t = np.linspace(0, 100, 100) # Grid of time points (in days)\n",
    "y0 = S0, E0, I0, R0 # Initial conditions vector\n",
    "\n",
    "# Integrate the SIR equations over the time grid, t.\n",
    "ret = odeint(deriv, y0, t, args=(N, beta, gamma, delta))\n",
    "S, E, I, R = ret.T"
   ]
  },
  {
   "cell_type": "code",
   "execution_count": 16,
   "metadata": {},
   "outputs": [
    {
     "data": {
      "image/png": "[encoded data removed]",
      "text/plain": [
       "<Figure size 720x288 with 1 Axes>"
      ]
     },
     "metadata": {
      "needs_background": "light"
     },
     "output_type": "display_data"
    }
   ],
   "source": [
    "plotsir(t, S, E, I, R)"
   ]
  },
  {
   "cell_type": "markdown",
   "metadata": {},
   "source": [
    "Cada vez tiene mejor cara... pero aún falta lo más cruel de todo, representar los posibles decesos. "
   ]
  },
  {
   "cell_type": "markdown",
   "metadata": {},
   "source": [
    "## Obteniendo el compartimiento de \"*Decesos*\"\n",
    "\n",
    "Recordemos el modelo $S.E.I.R.$\n",
    "\n",
    "<p float=\"left\">\n",
    "  <img src=https://miro.medium.com/max/1000/1*B-HZLpVWEgAZ3iloHBJjCA.png width=\"500\" />\n",
    "</p>\n",
    "\n",
    "¿Cuándo puede morir una persona por la enfermedad? ¡Sólo mientras esté infectado!, esto significa que hay qué agregar una transición $I \\rightarrow D$. \n",
    "\n",
    "\n",
    "Por supuesto, las personas no mueren de inmediato; Definimos una nueva variable $\\rho$(rho) para la tasa a la que las personas mueren (por ejemplo, cuando tarda $6$ días en morir, $\\rho=1/6$). No hay razón para que la tasa de recuperación, $\\gamma$, cambie. Entonces, nuestro nuevo modelo se verá:\n",
    "\n",
    "<p float=\"left\">\n",
    "  <img src=https://miro.medium.com/max/1400/1*67WEZSCZ70oMs5TKKvvfJg.png width=\"500\" />\n",
    "</p>\n",
    "\n",
    "Lo único que falta son las probabilidades de pasar de infectado a recuperado y de infectado a muerto. Esa será una variable más (¡la última por ahora!), La tasa de mortalidad $\\alpha$. Por ejemplo, si $\\alpha= 5\\%$, $\\rho = 1$ y $\\gamma=1$ (por lo que las personas mueren o se recuperan en $1$ día, eso es un ejemplo más fácil) y $100$ personas están infectadas, entonces $5\\% \\times 100 = 5$ personas morirán. Eso deja $95\\% \\times 100 = 95$ personas en recuperación. En resumen, la probabilidad de $I \\rightarrow D$ es $\\alpha$ y, por lo tanto, la probabilidad de $I \\rightarrow R$ es $1-\\alpha$. Finalmente llegamos a este modelo:\n",
    "\n",
    "<p float=\"left\">\n",
    "  <img src=https://miro.medium.com/max/1400/1*TIZaRpt70TR1RFtf2dmlew.png width=\"500\" />\n",
    "</p>"
   ]
  },
  {
   "cell_type": "markdown",
   "metadata": {},
   "source": [
    "Adicionando esta nueva ecuación al conjunto que teníamos de antes:\n",
    "\n",
    "$$\n",
    "\\begin{align}\n",
    "\\frac{dS}{dt} & = -\\beta \\cdot I \\cdot \\frac{S}{N} \\\\\n",
    "\\frac{dE}{dt} & = \\beta \\cdot I \\cdot \\frac{S}{N} - \\delta \\cdot E\\\\\n",
    "\\frac{dI}{dt} & = \\delta \\cdot E - (1-\\alpha) \\cdot \\gamma \\cdot I - \\alpha \\cdot \\rho \\cdot I\\\\\n",
    "\\frac{dR}{dt} & = (1-\\alpha) \\cdot \\gamma \\cdot I \\\\\n",
    "\\frac{dD}{dt} & = \\alpha \\cdot \\rho \\cdot I\n",
    "\\end{align}\n",
    "$$"
   ]
  },
  {
   "cell_type": "markdown",
   "metadata": {},
   "source": [
    "## Programando el compartimiento de *Decesos*\n",
    "\n",
    "Modificando el código que venimos trayendo para incluir los decesos. Solo es necesario realizar algunos cambios menores, como es incluir $\\alpha=20\\%$ y $\\rho=1/9$:"
   ]
  },
  {
   "cell_type": "code",
   "execution_count": 17,
   "metadata": {},
   "outputs": [],
   "source": [
    "def deriv(y, t, N, beta, gamma, delta, alpha, rho):\n",
    "    S, E, I, R, D = y\n",
    "    dSdt = -beta * S * I / N\n",
    "    dEdt = beta * S * I / N - delta * E\n",
    "    dIdt = delta * E - (1 - alpha) * gamma * I - alpha * rho * I\n",
    "    dRdt = (1 - alpha) * gamma * I\n",
    "    dDdt = alpha * rho * I\n",
    "    return dSdt, dEdt, dIdt, dRdt, dDdt"
   ]
  },
  {
   "cell_type": "code",
   "execution_count": 18,
   "metadata": {},
   "outputs": [],
   "source": [
    "D = 4.0 # infections lasts four days\n",
    "gamma = 1.0 / D\n",
    "delta = 1.0 / 5.0  # incubation period of five days\n",
    "R_0 = 5.0\n",
    "beta = R_0 * gamma  # R_0 = beta / gamma, so beta = R_0 * gamma\n",
    "alpha = 0.2  # 10% death rate\n",
    "rho = 1/9  # 9 days from infection until death\n",
    "S0, E0, I0, R0, D0 = N-1, 1, 0, 0, 0  # initial conditions: one exposed"
   ]
  },
  {
   "cell_type": "code",
   "execution_count": 19,
   "metadata": {},
   "outputs": [],
   "source": [
    "t = np.linspace(0, 100, 100) # Grid of time points (in days)\n",
    "y0 = S0, E0, I0, R0, D0 # Initial conditions vector\n",
    "\n",
    "# Integrate the SIR equations over the time grid, t.\n",
    "ret = odeint(deriv, y0, t, args=(N, beta, gamma, delta, alpha, rho))\n",
    "S, E, I, R, D = ret.T"
   ]
  },
  {
   "cell_type": "code",
   "execution_count": 20,
   "metadata": {},
   "outputs": [],
   "source": [
    "def plotseird(t, S, E, I, R, D):\n",
    "    f, ax = plt.subplots(1,1,figsize=(10,4))\n",
    "    ax.plot(t, S, 'b', alpha=0.7, linewidth=2, label='Susceptible')\n",
    "    ax.plot(t, E, 'y', alpha=0.7, linewidth=2, label='Exposed')\n",
    "    ax.plot(t, I, 'r', alpha=0.7, linewidth=2, label='Infected')\n",
    "    ax.plot(t, R, 'g', alpha=0.7, linewidth=2, label='Recovered')\n",
    "    ax.plot(t, D, 'k', alpha=0.7, linewidth=2, label='Dead')\n",
    "    ax.plot(t, S+E+I+R+D, 'c--', alpha=0.7, linewidth=2, label='Total')\n",
    "\n",
    "    ax.set_xlabel('Time (days)')\n",
    "\n",
    "    ax.yaxis.set_tick_params(length=0)\n",
    "    ax.xaxis.set_tick_params(length=0)\n",
    "    ax.grid(b=True, which='major', c='w', lw=2, ls='-')\n",
    "    legend = ax.legend()\n",
    "    legend.get_frame().set_alpha(0.5)\n",
    "    for spine in ('top', 'right', 'bottom', 'left'):\n",
    "        ax.spines[spine].set_visible(False)\n",
    "    plt.show();"
   ]
  },
  {
   "cell_type": "code",
   "execution_count": 21,
   "metadata": {},
   "outputs": [
    {
     "data": {
      "image/png": "[encoded data removed]",
      "text/plain": [
       "<Figure size 720x288 with 1 Axes>"
      ]
     },
     "metadata": {
      "needs_background": "light"
     },
     "output_type": "display_data"
    }
   ],
   "source": [
    "plotseird(t, S, E, I, R, D)"
   ]
  },
  {
   "cell_type": "markdown",
   "metadata": {},
   "source": [
    "Se adicionó una variable \"*total*\" que suma $S, E, I, R$ y $D$ para cada paso de tiempo como un \"*control de sanidad*\": los compartimentos siempre tienen que sumar $N$; Esto puede dar una pista sobre si las ecuaciones son correctas.\n",
    "\n",
    "Ya sabemos cómo ir agregando nuevos compartimentos al modelo: piense qué transiciones deben agregarse y cambiarse; pensar en las probabilidades, poblaciones y tasas de estas nuevas transiciones; dibuja el diagrama; y finalmente escribe las ecuaciones. ¡La codificación definitivamente no es la parte difícil para estos modelos!\n",
    "\n",
    "Por ejemplo, es posible que desee agregar un compartimento \"*UCI*\" para las personas infectadas que necesitan ir a una *UCI* (lo haremos en el próximo artículo). Piense desde qué compartimiento las personas pueden ir a la *UCI*, a dónde pueden ir después de la *UCI*, etc."
   ]
  },
  {
   "cell_type": "markdown",
   "metadata": {},
   "source": [
    "# Variables dependientes del tiempo\n",
    "\n",
    "Resumamos el listado de las variables empleadas hasta ahora:\n",
    "\n",
    "- $N$: población total\n",
    "\n",
    "\n",
    "- $S(t)$: número de personas susceptibles en el día $t$\n",
    "\n",
    "\n",
    "- $E(t)$: número de personas expuestas el día $t$\n",
    "\n",
    "\n",
    "- $I(t)$: número de personas infectadas el día $t$\n",
    "\n",
    "\n",
    "- $R(t)$: número de personas recuperadas el día $t$\n",
    "\n",
    "\n",
    "- $D(t)$: número de personas fallecidas el día $t$\n",
    "\n",
    "\n",
    "- $\\beta$: cantidad esperada de personas que una persona infectada infecta por día\n",
    "\n",
    "\n",
    "- $D$: número de días que una persona infectada tiene y puede transmitir la enfermedad\n",
    "\n",
    "\n",
    "- $\\gamma$: la proporción de infectados que se recuperan por día ($\\gamma = 1/D$)\n",
    "\n",
    "\n",
    "- $R_0$: el número total de personas que infecta una persona infectada ($R_0= \\beta / \\gamma$)\n",
    "\n",
    "\n",
    "- $\\delta$: duración del período de incubación\n",
    "\n",
    "\n",
    "- $\\alpha$: tasa de mortalidad\n",
    "\n",
    "\n",
    "- $\\rho$: tasa a la que muere la gente (= 1 / días desde la infección hasta la muerte)"
   ]
  },
  {
   "cell_type": "markdown",
   "metadata": {},
   "source": [
    "Como puede ver, solo los compartimentos cambian con el tiempo (no son constantes). ¡Por supuesto, esto es muy poco realista! Como ejemplo, ¿por qué el valor $R_0$ debería ser constante? Seguramente, los bloqueos a nivel nacional reducen la cantidad de personas que infecta una persona infectada, ¡de eso se trata! Naturalmente, para acercarnos a modelar desarrollos del mundo real, tenemos que hacer que nuestras variables cambien con el tiempo."
   ]
  },
  {
   "cell_type": "markdown",
   "metadata": {},
   "source": [
    "# $R_0$ dependiente del tiempo"
   ]
  },
  {
   "cell_type": "markdown",
   "metadata": {},
   "source": [
    "Primero, implementamos un cambio simple: en un día $L$, se aplica un estricto \"*bloqueo*\", empujando $R_0$ a $0.9$. En las ecuaciones, usamos $\\beta$ β y no $R_0$, pero sabemos que $R_0=\\beta / \\gamma$, entonces $\\beta = R_0 \\cdot \\gamma$. Eso significa que definimos una función"
   ]
  },
  {
   "cell_type": "raw",
   "metadata": {},
   "source": [
    "def R_0(t):\n",
    "    return 5.0 if t < L else 0.9"
   ]
  },
  {
   "cell_type": "markdown",
   "metadata": {},
   "source": [
    "y otra función para $\\beta$ que llama a dicha función"
   ]
  },
  {
   "cell_type": "raw",
   "metadata": {},
   "source": [
    "def beta(t, gamma):\n",
    "    return R_0(t) * gamma"
   ]
  },
  {
   "cell_type": "markdown",
   "metadata": {},
   "source": [
    "Ahora solo resta cambiar el código"
   ]
  },
  {
   "cell_type": "code",
   "execution_count": 22,
   "metadata": {},
   "outputs": [],
   "source": [
    "def deriv(y, t, N, beta, gamma, delta, alpha, rho):\n",
    "    S, E, I, R, D = y\n",
    "    dSdt = -beta(t) * S * I / N\n",
    "    dEdt = beta(t) * S * I / N - delta * E\n",
    "    dIdt = delta * E - (1 - alpha) * gamma * I - alpha * rho * I\n",
    "    dRdt = (1 - alpha) * gamma * I\n",
    "    dDdt = alpha * rho * I\n",
    "    return dSdt, dEdt, dIdt, dRdt, dDdt"
   ]
  },
  {
   "cell_type": "code",
   "execution_count": 23,
   "metadata": {},
   "outputs": [],
   "source": [
    "N = 1000000\n",
    "D = 4.0 # infections lasts four days\n",
    "gamma = 1.0 / D\n",
    "delta = 1.0 / 5.0  # incubation period of three days\n",
    "L = 100\n",
    "\n",
    "#R_0 = 5.0\n",
    "def R_0(t):\n",
    "    return 5.0 if t < L else 0.9\n",
    "\n",
    "#beta = R_0 * gamma # infected person infects 1 other person per day\n",
    "def beta(t):\n",
    "    return R_0(t) * gamma\n",
    "\n",
    "alpha = 0.2 #20% death rate\n",
    "rho = 1/9 # 9 days from infection until death\n",
    "\n",
    "S0, E0, I0, R0, D0 = N-1, 1, 0, 0, 0  # initial conditions: one exposed"
   ]
  },
  {
   "cell_type": "code",
   "execution_count": 57,
   "metadata": {},
   "outputs": [],
   "source": [
    "t = np.linspace(0, 100, 100) # Grid of time points (in days)\n",
    "n = len(t)\n",
    "y0 = S0, E0, I0, R0, D0 # Initial conditions vector\n",
    "\n",
    "# Integrate the SIR equations over the time grid, t.\n",
    "ret = odeint(deriv, y0, t, args=(N, beta, gamma, delta, alpha, rho))\n",
    "S, E, I, R, D = ret.T"
   ]
  },
  {
   "cell_type": "code",
   "execution_count": 58,
   "metadata": {},
   "outputs": [
    {
     "data": {
      "image/png": "[encoded data removed]",
      "text/plain": [
       "<Figure size 720x288 with 1 Axes>"
      ]
     },
     "metadata": {
      "needs_background": "light"
     },
     "output_type": "display_data"
    }
   ],
   "source": [
    "plotseird(t, S, E, I, R, D)"
   ]
  },
  {
   "cell_type": "code",
   "execution_count": 61,
   "metadata": {},
   "outputs": [
    {
     "data": {
      "text/plain": [
       "76201.95041510701"
      ]
     },
     "execution_count": 61,
     "metadata": {},
     "output_type": "execute_result"
    }
   ],
   "source": [
    "D[n-1]"
   ]
  },
  {
   "cell_type": "markdown",
   "metadata": {},
   "source": [
    "En realidad, $R_0$ probablemente nunca \"salta\" de un valor a otro. Más bien, (más o menos rápidamente) cambia continuamente (y puede subir y bajar varias veces, por ejemplo, si se aflojan las medidas de distanciamiento social y luego se vuelven a ajustar). Puede elegir cualquier función que desee para $R_0$, pero una opción común para modelar el impacto inicial del distanciamiento social es una función [logística](https://en.wikipedia.org/wiki/Logistic_function).\n",
    "\n",
    "La función (adoptada para estos propósitos) sería algo así como:\n",
    "\n",
    "$$R_0(t)=\\frac{R_{0_{start}}-R_{0_{end}}}{1+e^{-k(-x+x_0)}}+R_{0_{end}}$$\n",
    "\n",
    "Y esto es lo que realmente hacen los parámetros:\n",
    "\n",
    "- $R_{0_{start}}$ y $R_{0_{end}}$ son los valores de $R_0$ en el primer y el último día\n",
    "\n",
    "\n",
    "- $x_0$ es el valor $x$ del punto de inflexión (es decir, la fecha de la disminución más pronunciada en $R_0$, esto podría considerarse como la fecha principal de \"bloqueo\")\n",
    "\n",
    "\n",
    "- $k$ nos permite variar la rapidez con la que $R_0$ disminuye"
   ]
  },
  {
   "cell_type": "markdown",
   "metadata": {},
   "source": [
    "Veamos antes como es el comportamiento de la curva logística para diferentes valores de $k=1.0, 0.5$ y $0.1$ y variando $R_0$ también entre un valor máximo inicial de $5.0$ y otro final de $0.5$"
   ]
  },
  {
   "cell_type": "code",
   "execution_count": 26,
   "metadata": {},
   "outputs": [],
   "source": [
    "def logistic(x, R0start, R0end, x0, k):    \n",
    "    return (R0start - R0end)/(1 + np.exp(-k*(-x+x0))) + R0end"
   ]
  },
  {
   "cell_type": "code",
   "execution_count": 40,
   "metadata": {},
   "outputs": [
    {
     "data": {
      "image/png": "[encoded data removed]",
      "text/plain": [
       "<Figure size 720x288 with 1 Axes>"
      ]
     },
     "metadata": {
      "needs_background": "light"
     },
     "output_type": "display_data"
    }
   ],
   "source": [
    "R0start, k, x0, R0end = 1.9, 0.5, 50, 0.5\n",
    "k1 = 1.0\n",
    "k2 = 0.5\n",
    "k3 = 0.1\n",
    "\n",
    "x = np.linspace(0, 100, 100)\n",
    "\n",
    "logistica1 = [logistic(i, R0start, R0end, x0, k1) for i in range(len(x))]\n",
    "logistica2 = [logistic(i, R0start, R0end, x0, k2) for i in range(len(x))]\n",
    "logistica3 = [logistic(i, R0start, R0end, x0, k3) for i in range(len(x))]\n",
    "\n",
    "f, ax = plt.subplots(1,1,figsize=(10,4))\n",
    "\n",
    "ax.plot(x, logistica1, 'b', alpha=0.7, linewidth=2, label='k = 1.0')\n",
    "ax.plot(x, logistica2, 'y', alpha=0.7, linewidth=2, label='k = 0.5')\n",
    "ax.plot(x, logistica3, 'r', alpha=0.7, linewidth=2, label='k = 0.1')\n",
    "\n",
    "ax.grid(b=True, which='major', c='w', lw=2, ls='-')\n",
    "legend = ax.legend()\n",
    "legend.get_frame().set_alpha(0.5)\n",
    "plt.show()"
   ]
  },
  {
   "cell_type": "markdown",
   "metadata": {},
   "source": [
    "Ahora cambiando el cógido que veníamos trabajando para implementar la variación de $R_0$"
   ]
  },
  {
   "cell_type": "code",
   "execution_count": 50,
   "metadata": {},
   "outputs": [],
   "source": [
    "N = 1000000\n",
    "D = 4.0 # infections lasts four days\n",
    "gamma = 1.0 / D\n",
    "delta = 1.0 / 5.0  # incubation period of three days\n",
    "R0start, k, x0, R0end = 5.0, 0.5, 50, 0.5\n",
    "\n",
    "def beta(t):\n",
    "    return logistic(t, R0start, R0end, x0, k) * gamma\n",
    "\n",
    "alpha = 0.2 #20% death rate\n",
    "rho = 1/9 # 9 days from infection until death\n",
    "\n",
    "S0, E0, I0, R0, D0 = N-1, 1, 0, 0, 0  # initial conditions: one exposed"
   ]
  },
  {
   "cell_type": "code",
   "execution_count": 51,
   "metadata": {},
   "outputs": [],
   "source": [
    "y0 = S0, E0, I0, R0, D0 # Initial conditions vector\n",
    "\n",
    "# Integrate the SIR equations over the time grid, t.\n",
    "ret = odeint(deriv, y0, t, args=(N, beta, gamma, delta, alpha, rho))\n",
    "S, E, I, R, D = ret.T\n",
    "R0_over_time = [logistic(i, R0start, R0end, x0, k) for i in range(len(t))]  # to plot R_0 over time: get function values"
   ]
  },
  {
   "cell_type": "code",
   "execution_count": 52,
   "metadata": {},
   "outputs": [
    {
     "data": {
      "image/png": "[encoded data removed]",
      "text/plain": [
       "<Figure size 720x288 with 1 Axes>"
      ]
     },
     "metadata": {
      "needs_background": "light"
     },
     "output_type": "display_data"
    }
   ],
   "source": [
    "plotseird(t, S, E, I, R, D)"
   ]
  },
  {
   "cell_type": "markdown",
   "metadata": {},
   "source": [
    "Dejamos que $R_0$ disminuya rápidamente de $5.0$ a $0.5$ alrededor del día $50$ y ahora realmente podemos ver las curvas aplanándose después del día $50$:"
   ]
  },
  {
   "cell_type": "markdown",
   "metadata": {},
   "source": [
    "# Tasa de fatalidad relacionada con los recursos disponibles y la edad\n",
    "\n",
    "Al igual que $R_0$, la tasa de mortalidad $\\alpha$ probablemente no sea constante para la mayoría de las enfermedades reales. Puede depender de una variedad de cosas; Nos centraremos en la dependencia de los recursos y la edad."
   ]
  },
  {
   "cell_type": "markdown",
   "metadata": {},
   "source": [
    "***Dependencia de los recursos:*** La tasa de mortalidad será mayor cuando hay más personas infectadas. Para pensar en una función que tenga ésto en consideración, se necesitaría una tasa de mortalidad \"*base*\" u \"*óptima*\" para el caso de que solo unas pocas personas estén infectadas (y por lo tanto reciban un tratamiento óptimo y puedan recuperarse) y algún factor que tenga en cuenta qué proporción de la población está actualmente infectada. Este es un ejemplo de una función que implementa estas ideas:\n",
    "\n",
    "$$\\alpha(t)=s \\cdot \\frac{I(t)}{N}+\\alpha_{opt}$$\n",
    "\n",
    "Los modelos más elaborados pueden hacer que la tasa de mortalidad dependa de la cantidad de camas de UCI o ventiladores disponibles, etc. Esto se tendrá en cuenta más adelante cuando modelemos Coronavirus."
   ]
  },
  {
   "cell_type": "markdown",
   "metadata": {},
   "source": [
    "***Dependencia de la edad:*** La dependencia de la edad es un poco más difícil. Para implementarlo por completo, tendríamos que incluir compartimentos separados para cada grupo de edad (por ejemplo, un compartimento infectado para personas de 0 a 9 años, otro para personas de 10 a 19 años, ...). Eso es factible con un bucle for simple en `Python`, pero las ecuaciones se vuelven un poco confusas. Un enfoque más simple que aún puede producir buenos resultados es el siguiente:\n",
    "\n",
    "Necesitamos 2 cosas para un enfoque más simple: *tasas de mortalidad por grupo de edad* y *proporción de la población total que se encuentra en ese grupo de edad*. Por ejemplo, podríamos tener las siguientes tasas de mortalidad y número de individuos por grupo de edad (empleando diccionarios de *Python*):\n",
    "\n"
   ]
  },
  {
   "cell_type": "raw",
   "metadata": {},
   "source": [
    "alpha_by_agegroup = {\n",
    "    \"0-29\": 0.01, \"30-59\": 0.05, \"60-89\": 0.20, \"89+\": 0.30\n",
    "}\n",
    "\n",
    "proportion_of_agegroup = {\n",
    "    \"0-29\": 0.1, \"30-59\": 0.3, \"60-89\": 0.4, \"89+\": 0.2\n",
    "}"
   ]
  },
  {
   "cell_type": "markdown",
   "metadata": {},
   "source": [
    "Esta sería una población extremadamente antigua con un $40\\%$ en el rango $60-89$ y un $20\\%$ en el rango $89+$. Ahora calculamos la tasa de mortalidad promedio general sumando la tasa de mortalidad del grupo de edad multiplicada por la proporción de la población en ese grupo de edad:\n",
    "\n",
    "$$\\alpha = 0.01 \\cdot 0.1 + 0.05 \\cdot 0.3 + 0.2 \\cdot 0.4 + 0.3 \\cdot 0.2 = 15.6\\%$$\n",
    "\n",
    "codificándolo"
   ]
  },
  {
   "cell_type": "raw",
   "metadata": {},
   "source": [
    "alpha_opt = sum(alpha_by_agegroup[i] * proportion_of_agegroup[i] \n",
    "            for i in list(alpha_by_agegroup.keys()))"
   ]
  },
  {
   "cell_type": "markdown",
   "metadata": {},
   "source": [
    "Una población bastante joven con las siguientes proporciones ..."
   ]
  },
  {
   "cell_type": "raw",
   "metadata": {},
   "source": [
    "proportion_of_agegroup = {\n",
    "    \"0-29\": 0.4, \"30-59\": 0.4, \"60-89\": 0.1, \"89+\": 0.1\n",
    "}"
   ]
  },
  {
   "cell_type": "markdown",
   "metadata": {},
   "source": [
    "… Solo tendría una tasa de mortalidad promedio de $7.4\\%$!\n",
    "\n",
    "Si queremos usar nuestras fórmulas para la dependencia de los recursos y la edad, podríamos usar la fórmula de los recursos que acabamos de usar para calcular $\\alpha_{opt}$ y usar eso en nuestra fórmula dependiente de los recursos de arriba.\n",
    "\n",
    "con seguridad, hay formas más elaboradas de implementar tasas de mortalidad con el tiempo. Por ejemplo, no estamos teniendo en cuenta que solo los casos críticos que requieren cuidados intensivos llenan los hospitales y pueden aumentar las tasas de mortalidad; o que las muertes cambian la estructura de la población que usamos para calcular la tasa de mortalidad en primer lugar; o que el impacto de los infectados en las tasas de mortalidad debería tener lugar varios días después, ya que las personas no suelen morir de inmediato, lo que resultaría en una [ecuación diferencial con retardo](https://en.wikipedia.org/wiki/Delay_differential_equation)."
   ]
  },
  {
   "cell_type": "markdown",
   "metadata": {},
   "source": [
    "## Implementación computacional de la tasa de fatalidad relacionada con los recursos disponibles y la edad\n",
    "\n",
    "La implementación computacional es sencilla, no es necesario siquiera cambiar las ecuaciones principales (definimos *alfa* dentro de las ecuaciones ya que necesitamos acceso al valor actual $I(t)$)."
   ]
  },
  {
   "cell_type": "code",
   "execution_count": 66,
   "metadata": {},
   "outputs": [],
   "source": [
    "def deriv(y, t, N, beta, gamma, delta, alpha_opt, rho):\n",
    "    S, E, I, R, D = y\n",
    "    \n",
    "    def alpha(t):\n",
    "        return s * I/N + alpha_opt\n",
    "    \n",
    "    dSdt = -beta(t) * S * I / N\n",
    "    dEdt = beta(t) * S * I / N - delta * E\n",
    "    dIdt = delta * E - (1 - alpha(t)) * gamma * I - alpha(t) * rho * I\n",
    "    dRdt = (1 - alpha(t)) * gamma * I\n",
    "    dDdt = alpha(t) * rho * I\n",
    "    return dSdt, dEdt, dIdt, dRdt, dDdt"
   ]
  },
  {
   "cell_type": "code",
   "execution_count": 78,
   "metadata": {},
   "outputs": [],
   "source": [
    "def plotseird(t, S, E, I, R, D=None, L=None, R0=None, Alpha=None):\n",
    "    f, ax = plt.subplots(1,1,figsize=(10,4))\n",
    "    ax.plot(t, S, 'b', alpha=0.7, linewidth=2, label='Susceptible')\n",
    "    ax.plot(t, E, 'y', alpha=0.7, linewidth=2, label='Exposed')\n",
    "    ax.plot(t, I, 'r', alpha=0.7, linewidth=2, label='Infected')\n",
    "    ax.plot(t, R, 'g', alpha=0.7, linewidth=2, label='Recovered')\n",
    "    if D is not None:\n",
    "        ax.plot(t, D, 'k', alpha=0.7, linewidth=2, label='Dead')\n",
    "        ax.plot(t, S+E+I+R+D, 'c--', alpha=0.7, linewidth=2, label='Total')\n",
    "    else:\n",
    "        ax.plot(t, S+E+I+R, 'c--', alpha=0.7, linewidth=2, label='Total')\n",
    "\n",
    "    ax.set_xlabel('Time (days)')\n",
    "\n",
    "    ax.yaxis.set_tick_params(length=0)\n",
    "    ax.xaxis.set_tick_params(length=0)\n",
    "    ax.grid(b=True, which='major', c='w', lw=2, ls='-')\n",
    "    legend = ax.legend(borderpad=2.0)\n",
    "    legend.get_frame().set_alpha(0.5)\n",
    "    \n",
    "    for spine in ('top', 'right', 'bottom', 'left'):\n",
    "        ax.spines[spine].set_visible(False)\n",
    "    \n",
    "    if L is not None:\n",
    "        plt.title(\"Lockdown after {} days\".format(L))\n",
    "    plt.show();\n",
    "\n",
    "    if R0 is not None or CFR is not None:\n",
    "        f = plt.figure(figsize=(12,4))\n",
    "  \n",
    "    if R0 is not None:\n",
    "        # sp1\n",
    "        ax1 = f.add_subplot(121)\n",
    "        ax1.plot(t, R0, 'b--', alpha=0.7, linewidth=2, label='R_0')\n",
    "\n",
    "        ax1.set_xlabel('Time (days)')\n",
    "        ax1.title.set_text('R_0 over time')\n",
    "        # ax.set_ylabel('Number (1000s)')\n",
    "        # ax.set_ylim(0,1.2)\n",
    "        ax1.yaxis.set_tick_params(length=0)\n",
    "        ax1.xaxis.set_tick_params(length=0)\n",
    "        ax1.grid(b=True, which='major', c='w', lw=2, ls='-')\n",
    "        legend = ax1.legend()\n",
    "        legend.get_frame().set_alpha(0.5)\n",
    "        \n",
    "        for spine in ('top', 'right', 'bottom', 'left'):\n",
    "            ax.spines[spine].set_visible(False)\n",
    "\n",
    "    if Alpha is not None:\n",
    "        # sp2\n",
    "        ax2 = f.add_subplot(122)\n",
    "        ax2.plot(t, Alpha, 'r--', alpha=0.7, linewidth=2, label='alpha')\n",
    "\n",
    "        ax2.set_xlabel('Time (days)')\n",
    "        ax2.title.set_text('fatality rate over time')\n",
    "        # ax.set_ylabel('Number (1000s)')\n",
    "        # ax.set_ylim(0,1.2)\n",
    "        ax2.yaxis.set_tick_params(length=0)\n",
    "        ax2.xaxis.set_tick_params(length=0)\n",
    "        ax2.grid(b=True, which='major', c='w', lw=2, ls='-')\n",
    "        legend = ax2.legend()\n",
    "        legend.get_frame().set_alpha(0.5)\n",
    "        \n",
    "        for spine in ('top', 'right', 'bottom', 'left'):\n",
    "            ax.spines[spine].set_visible(False)\n",
    "\n",
    "        plt.show();"
   ]
  },
  {
   "cell_type": "code",
   "execution_count": 73,
   "metadata": {},
   "outputs": [],
   "source": [
    "N = 1000000\n",
    "D = 4.0 # infections lasts four days\n",
    "gamma = 1.0 / D\n",
    "delta = 1.0 / 5.0  # incubation period of three days\n",
    "\n",
    "R0start, k, x0, R0end = 5.0, 0.5, 50, 0.5\n",
    "\n",
    "def beta(t):\n",
    "    return logistic(t, R0start, R0end, x0, k) * gamma\n",
    "\n",
    "#alpha = 0.2 #20% death rate\n",
    "\n",
    "alpha_by_agegroup = {\"0-29\": 0.01, \"30-59\": 0.05, \"60-89\": 0.20,\n",
    "                     \"89+\": 0.30\n",
    "                    }\n",
    "\n",
    "proportion_of_agegroup = {\"0-29\": 0.1, \"30-59\": 0.3, \"60-89\": 0.4,\n",
    "                          \"89+\": 0.2\n",
    "                         }\n",
    "\n",
    "s = 0.01\n",
    "\n",
    "alpha_opt = sum(alpha_by_agegroup[i] * proportion_of_agegroup[i] \n",
    "            for i in list(alpha_by_agegroup.keys()))\n",
    "\n",
    "rho = 1/9 # 9 days from infection until death\n",
    "\n",
    "S0, E0, I0, R0, D0 = N-1, 1, 0, 0, 0  # initial conditions: one exposed"
   ]
  },
  {
   "cell_type": "code",
   "execution_count": 74,
   "metadata": {},
   "outputs": [],
   "source": [
    "t = np.linspace(0, 100, 100) # Grid of time points (in days)\n",
    "y0 = S0, E0, I0, R0, D0 # Initial conditions vector\n",
    "\n",
    "# Integrate the SIR equations over the time grid, t.\n",
    "ret = odeint(deriv, y0, t, args=(N, beta, gamma, delta, alpha_opt, rho))\n",
    "\n",
    "S, E, I, R, D = ret.T\n",
    "\n",
    "R0_over_time = [logistic(i, R0start, R0end, x0, k) for i in range(len(t))]  # to plot R_0 over time: get function values\n",
    "\n",
    "Alpha_over_time = [s * I[i]/N + alpha_opt for i in range(len(t))]  # to plot alpha over time"
   ]
  },
  {
   "cell_type": "code",
   "execution_count": 79,
   "metadata": {},
   "outputs": [
    {
     "data": {
      "image/png": "[encoded data removed]",
      "text/plain": [
       "<Figure size 720x288 with 1 Axes>"
      ]
     },
     "metadata": {
      "needs_background": "light"
     },
     "output_type": "display_data"
    },
    {
     "data": {
      "image/png": "[encoded data removed]",
      "text/plain": [
       "<Figure size 864x288 with 2 Axes>"
      ]
     },
     "metadata": {
      "needs_background": "light"
     },
     "output_type": "display_data"
    }
   ],
   "source": [
    "plotseird(t, S, E, I, R, D, R0=R0_over_time, Alpha=Alpha_over_time)"
   ]
  },
  {
   "cell_type": "markdown",
   "metadata": {},
   "source": [
    "# Aplicación al caso colombiano"
   ]
  },
  {
   "cell_type": "markdown",
   "metadata": {},
   "source": [
    "***Nota:*** En este apartado se seguirá el trabajo realizado por \n",
    "\n",
    "- [Prevendo o crescimento de casos de COVID-19 (coronavírus) no Brasil com análise de dados, gráficos e equações! — Partes 1 e 2](https://medium.com/@caiquecoelho/prevendo-o-crescimento-de-casos-de-covid-19-coronavirus-no-brasil-com-an%C3%A1lise-de-dados-gr%C3%A1ficos-33ee525b62f8): By Caíque Coelho, in Towardsdatascience.com. Mar 19"
   ]
  },
  {
   "cell_type": "markdown",
   "metadata": {},
   "source": [
    "Una vez obtenido un modelo relativamente mas completo. vamos a revisar los datos del comportamiento de la pandemia en Colombia a la feche del día 18 de abril de 2020."
   ]
  },
  {
   "cell_type": "markdown",
   "metadata": {},
   "source": [
    "Empezamos por importar las bibliotecas a emplear"
   ]
  },
  {
   "cell_type": "code",
   "execution_count": 130,
   "metadata": {},
   "outputs": [],
   "source": [
    "## Import Libraries\n",
    "import numpy as np\n",
    "import pandas as pd\n",
    "import matplotlib.pyplot as plt\n",
    "import sklearn\n",
    "import io\n",
    "import requests"
   ]
  },
  {
   "cell_type": "markdown",
   "metadata": {},
   "source": [
    "Vamos a emplear los datos levantados por:\n",
    "\n",
    "- 2019 Novel Coronavirus COVID-19 (2019-nCoV) [Data Repository](https://github.com/CSSEGISandData/COVID-19) by Johns Hopkins CSSE \n",
    "\n",
    "\n",
    "- [World O Meter](https://www.worldometers.info/coronavirus/)\n",
    "\n",
    "Se trabajará con los datos de casos confirmados y decesos.\n",
    "\n",
    "Primero se carga la información a nivel global"
   ]
  },
  {
   "cell_type": "code",
   "execution_count": 173,
   "metadata": {},
   "outputs": [],
   "source": [
    "# Casos confirmados a nivel mundial\n",
    "url1 = \"https://raw.githubusercontent.com/CSSEGISandData/COVID-19/master/csse_covid_19_data/csse_covid_19_time_series/time_series_covid19_confirmed_global.csv\"\n",
    "confirmedCasesGlobal = pd.read_csv(url1)\n",
    "\n",
    "# Decesos confirmados a nivel mundial\n",
    "url2 = \"https://raw.githubusercontent.com/CSSEGISandData/COVID-19/master/csse_covid_19_data/csse_covid_19_time_series/time_series_covid19_deaths_global.csv\"\n",
    "deathsCasesGlobal = pd.read_csv(url2)"
   ]
  },
  {
   "cell_type": "markdown",
   "metadata": {},
   "source": [
    "Se extraen los datos de los casos confirmados (positivos) y los decesos en ***Colombia*** al 18/04/2020"
   ]
  },
  {
   "cell_type": "code",
   "execution_count": 155,
   "metadata": {},
   "outputs": [
    {
     "data": {
      "text/html": [
       "<div>\n",
       "<style scoped>\n",
       "    .dataframe tbody tr th:only-of-type {\n",
       "        vertical-align: middle;\n",
       "    }\n",
       "\n",
       "    .dataframe tbody tr th {\n",
       "        vertical-align: top;\n",
       "    }\n",
       "\n",
       "    .dataframe thead th {\n",
       "        text-align: right;\n",
       "    }\n",
       "</style>\n",
       "<table border=\"1\" class=\"dataframe\">\n",
       "  <thead>\n",
       "    <tr style=\"text-align: right;\">\n",
       "      <th></th>\n",
       "      <th>Province/State</th>\n",
       "      <th>Country/Region</th>\n",
       "      <th>Lat</th>\n",
       "      <th>Long</th>\n",
       "      <th>1/22/20</th>\n",
       "      <th>1/23/20</th>\n",
       "      <th>1/24/20</th>\n",
       "      <th>1/25/20</th>\n",
       "      <th>1/26/20</th>\n",
       "      <th>1/27/20</th>\n",
       "      <th>...</th>\n",
       "      <th>4/8/20</th>\n",
       "      <th>4/9/20</th>\n",
       "      <th>4/10/20</th>\n",
       "      <th>4/11/20</th>\n",
       "      <th>4/12/20</th>\n",
       "      <th>4/13/20</th>\n",
       "      <th>4/14/20</th>\n",
       "      <th>4/15/20</th>\n",
       "      <th>4/16/20</th>\n",
       "      <th>4/17/20</th>\n",
       "    </tr>\n",
       "  </thead>\n",
       "  <tbody>\n",
       "    <tr>\n",
       "      <th>82</th>\n",
       "      <td>NaN</td>\n",
       "      <td>Colombia</td>\n",
       "      <td>4.5709</td>\n",
       "      <td>-74.2973</td>\n",
       "      <td>0</td>\n",
       "      <td>0</td>\n",
       "      <td>0</td>\n",
       "      <td>0</td>\n",
       "      <td>0</td>\n",
       "      <td>0</td>\n",
       "      <td>...</td>\n",
       "      <td>2054</td>\n",
       "      <td>2223</td>\n",
       "      <td>2473</td>\n",
       "      <td>2709</td>\n",
       "      <td>2776</td>\n",
       "      <td>2852</td>\n",
       "      <td>2979</td>\n",
       "      <td>3105</td>\n",
       "      <td>3233</td>\n",
       "      <td>3439</td>\n",
       "    </tr>\n",
       "  </tbody>\n",
       "</table>\n",
       "<p>1 rows × 91 columns</p>\n",
       "</div>"
      ],
      "text/plain": [
       "   Province/State Country/Region     Lat     Long  1/22/20  1/23/20  1/24/20  \\\n",
       "82            NaN       Colombia  4.5709 -74.2973        0        0        0   \n",
       "\n",
       "    1/25/20  1/26/20  1/27/20  ...  4/8/20  4/9/20  4/10/20  4/11/20  4/12/20  \\\n",
       "82        0        0        0  ...    2054    2223     2473     2709     2776   \n",
       "\n",
       "    4/13/20  4/14/20  4/15/20  4/16/20  4/17/20  \n",
       "82     2852     2979     3105     3233     3439  \n",
       "\n",
       "[1 rows x 91 columns]"
      ]
     },
     "execution_count": 155,
     "metadata": {},
     "output_type": "execute_result"
    }
   ],
   "source": [
    "confirmedcasesColombia = confirmedCasesGlobal.loc[confirmedCasesGlobal['Country/Region'] == 'Colombia']\n",
    "confirmedcasesColombia.head()"
   ]
  },
  {
   "cell_type": "code",
   "execution_count": 174,
   "metadata": {},
   "outputs": [
    {
     "data": {
      "text/html": [
       "<div>\n",
       "<style scoped>\n",
       "    .dataframe tbody tr th:only-of-type {\n",
       "        vertical-align: middle;\n",
       "    }\n",
       "\n",
       "    .dataframe tbody tr th {\n",
       "        vertical-align: top;\n",
       "    }\n",
       "\n",
       "    .dataframe thead th {\n",
       "        text-align: right;\n",
       "    }\n",
       "</style>\n",
       "<table border=\"1\" class=\"dataframe\">\n",
       "  <thead>\n",
       "    <tr style=\"text-align: right;\">\n",
       "      <th></th>\n",
       "      <th>Province/State</th>\n",
       "      <th>Country/Region</th>\n",
       "      <th>Lat</th>\n",
       "      <th>Long</th>\n",
       "      <th>1/22/20</th>\n",
       "      <th>1/23/20</th>\n",
       "      <th>1/24/20</th>\n",
       "      <th>1/25/20</th>\n",
       "      <th>1/26/20</th>\n",
       "      <th>1/27/20</th>\n",
       "      <th>...</th>\n",
       "      <th>4/9/20</th>\n",
       "      <th>4/10/20</th>\n",
       "      <th>4/11/20</th>\n",
       "      <th>4/12/20</th>\n",
       "      <th>4/13/20</th>\n",
       "      <th>4/14/20</th>\n",
       "      <th>4/15/20</th>\n",
       "      <th>4/16/20</th>\n",
       "      <th>4/17/20</th>\n",
       "      <th>4/18/20</th>\n",
       "    </tr>\n",
       "  </thead>\n",
       "  <tbody>\n",
       "    <tr>\n",
       "      <th>82</th>\n",
       "      <td>NaN</td>\n",
       "      <td>Colombia</td>\n",
       "      <td>4.5709</td>\n",
       "      <td>-74.2973</td>\n",
       "      <td>0</td>\n",
       "      <td>0</td>\n",
       "      <td>0</td>\n",
       "      <td>0</td>\n",
       "      <td>0</td>\n",
       "      <td>0</td>\n",
       "      <td>...</td>\n",
       "      <td>69</td>\n",
       "      <td>80</td>\n",
       "      <td>100</td>\n",
       "      <td>109</td>\n",
       "      <td>112</td>\n",
       "      <td>127</td>\n",
       "      <td>131</td>\n",
       "      <td>144</td>\n",
       "      <td>153</td>\n",
       "      <td>153</td>\n",
       "    </tr>\n",
       "  </tbody>\n",
       "</table>\n",
       "<p>1 rows × 92 columns</p>\n",
       "</div>"
      ],
      "text/plain": [
       "   Province/State Country/Region     Lat     Long  1/22/20  1/23/20  1/24/20  \\\n",
       "82            NaN       Colombia  4.5709 -74.2973        0        0        0   \n",
       "\n",
       "    1/25/20  1/26/20  1/27/20  ...  4/9/20  4/10/20  4/11/20  4/12/20  \\\n",
       "82        0        0        0  ...      69       80      100      109   \n",
       "\n",
       "    4/13/20  4/14/20  4/15/20  4/16/20  4/17/20  4/18/20  \n",
       "82      112      127      131      144      153      153  \n",
       "\n",
       "[1 rows x 92 columns]"
      ]
     },
     "execution_count": 174,
     "metadata": {},
     "output_type": "execute_result"
    }
   ],
   "source": [
    "deathcasesColombia = deathsCasesGlobal.loc[deathsCasesGlobal['Country/Region'] == 'Colombia']\n",
    "deathcasesColombia.head()"
   ]
  },
  {
   "cell_type": "markdown",
   "metadata": {},
   "source": [
    "Las primeras cuatro columnas es información irrelevante para el estudio en cuestión, por lo que se retiran."
   ]
  },
  {
   "cell_type": "code",
   "execution_count": 157,
   "metadata": {},
   "outputs": [
    {
     "name": "stderr",
     "output_type": "stream",
     "text": [
      "C:\\Users\\Lenovo\\Anaconda3\\lib\\site-packages\\pandas\\core\\frame.py:3997: SettingWithCopyWarning: \n",
      "A value is trying to be set on a copy of a slice from a DataFrame\n",
      "\n",
      "See the caveats in the documentation: https://pandas.pydata.org/pandas-docs/stable/user_guide/indexing.html#returning-a-view-versus-a-copy\n",
      "  errors=errors,\n"
     ]
    },
    {
     "data": {
      "text/html": [
       "<div>\n",
       "<style scoped>\n",
       "    .dataframe tbody tr th:only-of-type {\n",
       "        vertical-align: middle;\n",
       "    }\n",
       "\n",
       "    .dataframe tbody tr th {\n",
       "        vertical-align: top;\n",
       "    }\n",
       "\n",
       "    .dataframe thead th {\n",
       "        text-align: right;\n",
       "    }\n",
       "</style>\n",
       "<table border=\"1\" class=\"dataframe\">\n",
       "  <thead>\n",
       "    <tr style=\"text-align: right;\">\n",
       "      <th></th>\n",
       "      <th>1/22/20</th>\n",
       "      <th>1/23/20</th>\n",
       "      <th>1/24/20</th>\n",
       "      <th>1/25/20</th>\n",
       "      <th>1/26/20</th>\n",
       "      <th>1/27/20</th>\n",
       "      <th>1/28/20</th>\n",
       "      <th>1/29/20</th>\n",
       "      <th>1/30/20</th>\n",
       "      <th>1/31/20</th>\n",
       "      <th>...</th>\n",
       "      <th>4/8/20</th>\n",
       "      <th>4/9/20</th>\n",
       "      <th>4/10/20</th>\n",
       "      <th>4/11/20</th>\n",
       "      <th>4/12/20</th>\n",
       "      <th>4/13/20</th>\n",
       "      <th>4/14/20</th>\n",
       "      <th>4/15/20</th>\n",
       "      <th>4/16/20</th>\n",
       "      <th>4/17/20</th>\n",
       "    </tr>\n",
       "  </thead>\n",
       "  <tbody>\n",
       "    <tr>\n",
       "      <th>82</th>\n",
       "      <td>0</td>\n",
       "      <td>0</td>\n",
       "      <td>0</td>\n",
       "      <td>0</td>\n",
       "      <td>0</td>\n",
       "      <td>0</td>\n",
       "      <td>0</td>\n",
       "      <td>0</td>\n",
       "      <td>0</td>\n",
       "      <td>0</td>\n",
       "      <td>...</td>\n",
       "      <td>2054</td>\n",
       "      <td>2223</td>\n",
       "      <td>2473</td>\n",
       "      <td>2709</td>\n",
       "      <td>2776</td>\n",
       "      <td>2852</td>\n",
       "      <td>2979</td>\n",
       "      <td>3105</td>\n",
       "      <td>3233</td>\n",
       "      <td>3439</td>\n",
       "    </tr>\n",
       "  </tbody>\n",
       "</table>\n",
       "<p>1 rows × 87 columns</p>\n",
       "</div>"
      ],
      "text/plain": [
       "    1/22/20  1/23/20  1/24/20  1/25/20  1/26/20  1/27/20  1/28/20  1/29/20  \\\n",
       "82        0        0        0        0        0        0        0        0   \n",
       "\n",
       "    1/30/20  1/31/20  ...  4/8/20  4/9/20  4/10/20  4/11/20  4/12/20  4/13/20  \\\n",
       "82        0        0  ...    2054    2223     2473     2709     2776     2852   \n",
       "\n",
       "    4/14/20  4/15/20  4/16/20  4/17/20  \n",
       "82     2979     3105     3233     3439  \n",
       "\n",
       "[1 rows x 87 columns]"
      ]
     },
     "execution_count": 157,
     "metadata": {},
     "output_type": "execute_result"
    }
   ],
   "source": [
    "confirmedcasesColombia.drop(['Province/State', 'Country/Region', 'Lat', 'Long'], axis=1, inplace=True)\n",
    "confirmedcasesColombia.head()"
   ]
  },
  {
   "cell_type": "code",
   "execution_count": 175,
   "metadata": {},
   "outputs": [
    {
     "name": "stderr",
     "output_type": "stream",
     "text": [
      "C:\\Users\\Lenovo\\Anaconda3\\lib\\site-packages\\pandas\\core\\frame.py:3997: SettingWithCopyWarning: \n",
      "A value is trying to be set on a copy of a slice from a DataFrame\n",
      "\n",
      "See the caveats in the documentation: https://pandas.pydata.org/pandas-docs/stable/user_guide/indexing.html#returning-a-view-versus-a-copy\n",
      "  errors=errors,\n"
     ]
    },
    {
     "data": {
      "text/html": [
       "<div>\n",
       "<style scoped>\n",
       "    .dataframe tbody tr th:only-of-type {\n",
       "        vertical-align: middle;\n",
       "    }\n",
       "\n",
       "    .dataframe tbody tr th {\n",
       "        vertical-align: top;\n",
       "    }\n",
       "\n",
       "    .dataframe thead th {\n",
       "        text-align: right;\n",
       "    }\n",
       "</style>\n",
       "<table border=\"1\" class=\"dataframe\">\n",
       "  <thead>\n",
       "    <tr style=\"text-align: right;\">\n",
       "      <th></th>\n",
       "      <th>1/22/20</th>\n",
       "      <th>1/23/20</th>\n",
       "      <th>1/24/20</th>\n",
       "      <th>1/25/20</th>\n",
       "      <th>1/26/20</th>\n",
       "      <th>1/27/20</th>\n",
       "      <th>1/28/20</th>\n",
       "      <th>1/29/20</th>\n",
       "      <th>1/30/20</th>\n",
       "      <th>1/31/20</th>\n",
       "      <th>...</th>\n",
       "      <th>4/9/20</th>\n",
       "      <th>4/10/20</th>\n",
       "      <th>4/11/20</th>\n",
       "      <th>4/12/20</th>\n",
       "      <th>4/13/20</th>\n",
       "      <th>4/14/20</th>\n",
       "      <th>4/15/20</th>\n",
       "      <th>4/16/20</th>\n",
       "      <th>4/17/20</th>\n",
       "      <th>4/18/20</th>\n",
       "    </tr>\n",
       "  </thead>\n",
       "  <tbody>\n",
       "    <tr>\n",
       "      <th>82</th>\n",
       "      <td>0</td>\n",
       "      <td>0</td>\n",
       "      <td>0</td>\n",
       "      <td>0</td>\n",
       "      <td>0</td>\n",
       "      <td>0</td>\n",
       "      <td>0</td>\n",
       "      <td>0</td>\n",
       "      <td>0</td>\n",
       "      <td>0</td>\n",
       "      <td>...</td>\n",
       "      <td>69</td>\n",
       "      <td>80</td>\n",
       "      <td>100</td>\n",
       "      <td>109</td>\n",
       "      <td>112</td>\n",
       "      <td>127</td>\n",
       "      <td>131</td>\n",
       "      <td>144</td>\n",
       "      <td>153</td>\n",
       "      <td>153</td>\n",
       "    </tr>\n",
       "  </tbody>\n",
       "</table>\n",
       "<p>1 rows × 88 columns</p>\n",
       "</div>"
      ],
      "text/plain": [
       "    1/22/20  1/23/20  1/24/20  1/25/20  1/26/20  1/27/20  1/28/20  1/29/20  \\\n",
       "82        0        0        0        0        0        0        0        0   \n",
       "\n",
       "    1/30/20  1/31/20  ...  4/9/20  4/10/20  4/11/20  4/12/20  4/13/20  \\\n",
       "82        0        0  ...      69       80      100      109      112   \n",
       "\n",
       "    4/14/20  4/15/20  4/16/20  4/17/20  4/18/20  \n",
       "82      127      131      144      153      153  \n",
       "\n",
       "[1 rows x 88 columns]"
      ]
     },
     "execution_count": 175,
     "metadata": {},
     "output_type": "execute_result"
    }
   ],
   "source": [
    "deathcasesColombia.drop(['Province/State', 'Country/Region', 'Lat', 'Long'], axis=1, inplace=True)\n",
    "deathcasesColombia.head()"
   ]
  },
  {
   "cell_type": "markdown",
   "metadata": {},
   "source": [
    "Para generar las gráficas se requiere que los datos estén en columna, por lo que se realiza la transposición de los datos que están dados en fila."
   ]
  },
  {
   "cell_type": "code",
   "execution_count": 163,
   "metadata": {},
   "outputs": [
    {
     "data": {
      "text/html": [
       "<div>\n",
       "<style scoped>\n",
       "    .dataframe tbody tr th:only-of-type {\n",
       "        vertical-align: middle;\n",
       "    }\n",
       "\n",
       "    .dataframe tbody tr th {\n",
       "        vertical-align: top;\n",
       "    }\n",
       "\n",
       "    .dataframe thead th {\n",
       "        text-align: right;\n",
       "    }\n",
       "</style>\n",
       "<table border=\"1\" class=\"dataframe\">\n",
       "  <thead>\n",
       "    <tr style=\"text-align: right;\">\n",
       "      <th></th>\n",
       "      <th>cases</th>\n",
       "    </tr>\n",
       "  </thead>\n",
       "  <tbody>\n",
       "    <tr>\n",
       "      <th>1/22/20</th>\n",
       "      <td>0</td>\n",
       "    </tr>\n",
       "    <tr>\n",
       "      <th>1/23/20</th>\n",
       "      <td>0</td>\n",
       "    </tr>\n",
       "    <tr>\n",
       "      <th>1/24/20</th>\n",
       "      <td>0</td>\n",
       "    </tr>\n",
       "    <tr>\n",
       "      <th>1/25/20</th>\n",
       "      <td>0</td>\n",
       "    </tr>\n",
       "    <tr>\n",
       "      <th>1/26/20</th>\n",
       "      <td>0</td>\n",
       "    </tr>\n",
       "  </tbody>\n",
       "</table>\n",
       "</div>"
      ],
      "text/plain": [
       "         cases\n",
       "1/22/20      0\n",
       "1/23/20      0\n",
       "1/24/20      0\n",
       "1/25/20      0\n",
       "1/26/20      0"
      ]
     },
     "execution_count": 163,
     "metadata": {},
     "output_type": "execute_result"
    }
   ],
   "source": [
    "confirmedcasesColombia_transposed = confirmedcasesColombia.T\n",
    "confirmedcasesColombia_transposed.columns = ['cases']\n",
    "confirmedcasesColombia_transposed.head()"
   ]
  },
  {
   "cell_type": "code",
   "execution_count": 176,
   "metadata": {},
   "outputs": [
    {
     "data": {
      "text/html": [
       "<div>\n",
       "<style scoped>\n",
       "    .dataframe tbody tr th:only-of-type {\n",
       "        vertical-align: middle;\n",
       "    }\n",
       "\n",
       "    .dataframe tbody tr th {\n",
       "        vertical-align: top;\n",
       "    }\n",
       "\n",
       "    .dataframe thead th {\n",
       "        text-align: right;\n",
       "    }\n",
       "</style>\n",
       "<table border=\"1\" class=\"dataframe\">\n",
       "  <thead>\n",
       "    <tr style=\"text-align: right;\">\n",
       "      <th></th>\n",
       "      <th>cases</th>\n",
       "    </tr>\n",
       "  </thead>\n",
       "  <tbody>\n",
       "    <tr>\n",
       "      <th>1/22/20</th>\n",
       "      <td>0</td>\n",
       "    </tr>\n",
       "    <tr>\n",
       "      <th>1/23/20</th>\n",
       "      <td>0</td>\n",
       "    </tr>\n",
       "    <tr>\n",
       "      <th>1/24/20</th>\n",
       "      <td>0</td>\n",
       "    </tr>\n",
       "    <tr>\n",
       "      <th>1/25/20</th>\n",
       "      <td>0</td>\n",
       "    </tr>\n",
       "    <tr>\n",
       "      <th>1/26/20</th>\n",
       "      <td>0</td>\n",
       "    </tr>\n",
       "  </tbody>\n",
       "</table>\n",
       "</div>"
      ],
      "text/plain": [
       "         cases\n",
       "1/22/20      0\n",
       "1/23/20      0\n",
       "1/24/20      0\n",
       "1/25/20      0\n",
       "1/26/20      0"
      ]
     },
     "execution_count": 176,
     "metadata": {},
     "output_type": "execute_result"
    }
   ],
   "source": [
    "deathcasesColombia_transposed = deathcasesColombia.T\n",
    "deathcasesColombia_transposed.columns = ['cases']\n",
    "deathcasesColombia_transposed.head()"
   ]
  },
  {
   "cell_type": "markdown",
   "metadata": {},
   "source": [
    "Graficando los datos desde el primer día que se cuenta con información"
   ]
  },
  {
   "cell_type": "code",
   "execution_count": 171,
   "metadata": {},
   "outputs": [
    {
     "data": {
      "text/plain": [
       "<matplotlib.axes._subplots.AxesSubplot at 0x2344733de10>"
      ]
     },
     "execution_count": 171,
     "metadata": {},
     "output_type": "execute_result"
    },
    {
     "data": {
      "image/png": "[encoded data removed]",
      "text/plain": [
       "<Figure size 864x504 with 1 Axes>"
      ]
     },
     "metadata": {
      "needs_background": "light"
     },
     "output_type": "display_data"
    }
   ],
   "source": [
    "days = confirmedcasesColombia_transposed.index.values\n",
    "confirmedcasesColombia_transposed['cases'].plot(figsize=(12,7))"
   ]
  },
  {
   "cell_type": "code",
   "execution_count": 177,
   "metadata": {},
   "outputs": [
    {
     "data": {
      "text/plain": [
       "<matplotlib.axes._subplots.AxesSubplot at 0x23446684e48>"
      ]
     },
     "execution_count": 177,
     "metadata": {},
     "output_type": "execute_result"
    },
    {
     "data": {
      "image/png": "[encoded data removed]",
      "text/plain": [
       "<Figure size 864x504 with 1 Axes>"
      ]
     },
     "metadata": {
      "needs_background": "light"
     },
     "output_type": "display_data"
    }
   ],
   "source": [
    "days = deathcasesColombia_transposed.index.values\n",
    "deathcasesColombia_transposed['cases'].plot(figsize=(12,7))"
   ]
  },
  {
   "cell_type": "markdown",
   "metadata": {},
   "source": [
    "Nos interesa únicamente a partir de las fechas en donde empezaron a tenerse casos confirmados y decesos"
   ]
  },
  {
   "cell_type": "code",
   "execution_count": 167,
   "metadata": {
    "collapsed": true
   },
   "outputs": [
    {
     "data": {
      "text/html": [
       "<div>\n",
       "<style scoped>\n",
       "    .dataframe tbody tr th:only-of-type {\n",
       "        vertical-align: middle;\n",
       "    }\n",
       "\n",
       "    .dataframe tbody tr th {\n",
       "        vertical-align: top;\n",
       "    }\n",
       "\n",
       "    .dataframe thead th {\n",
       "        text-align: right;\n",
       "    }\n",
       "</style>\n",
       "<table border=\"1\" class=\"dataframe\">\n",
       "  <thead>\n",
       "    <tr style=\"text-align: right;\">\n",
       "      <th></th>\n",
       "      <th>cases</th>\n",
       "    </tr>\n",
       "  </thead>\n",
       "  <tbody>\n",
       "    <tr>\n",
       "      <th>3/6/20</th>\n",
       "      <td>1</td>\n",
       "    </tr>\n",
       "    <tr>\n",
       "      <th>3/7/20</th>\n",
       "      <td>1</td>\n",
       "    </tr>\n",
       "    <tr>\n",
       "      <th>3/8/20</th>\n",
       "      <td>1</td>\n",
       "    </tr>\n",
       "    <tr>\n",
       "      <th>3/9/20</th>\n",
       "      <td>1</td>\n",
       "    </tr>\n",
       "    <tr>\n",
       "      <th>3/10/20</th>\n",
       "      <td>3</td>\n",
       "    </tr>\n",
       "    <tr>\n",
       "      <th>3/11/20</th>\n",
       "      <td>9</td>\n",
       "    </tr>\n",
       "    <tr>\n",
       "      <th>3/12/20</th>\n",
       "      <td>9</td>\n",
       "    </tr>\n",
       "    <tr>\n",
       "      <th>3/13/20</th>\n",
       "      <td>13</td>\n",
       "    </tr>\n",
       "    <tr>\n",
       "      <th>3/14/20</th>\n",
       "      <td>22</td>\n",
       "    </tr>\n",
       "    <tr>\n",
       "      <th>3/15/20</th>\n",
       "      <td>34</td>\n",
       "    </tr>\n",
       "    <tr>\n",
       "      <th>3/16/20</th>\n",
       "      <td>54</td>\n",
       "    </tr>\n",
       "    <tr>\n",
       "      <th>3/17/20</th>\n",
       "      <td>65</td>\n",
       "    </tr>\n",
       "    <tr>\n",
       "      <th>3/18/20</th>\n",
       "      <td>93</td>\n",
       "    </tr>\n",
       "    <tr>\n",
       "      <th>3/19/20</th>\n",
       "      <td>102</td>\n",
       "    </tr>\n",
       "    <tr>\n",
       "      <th>3/20/20</th>\n",
       "      <td>128</td>\n",
       "    </tr>\n",
       "    <tr>\n",
       "      <th>3/21/20</th>\n",
       "      <td>196</td>\n",
       "    </tr>\n",
       "    <tr>\n",
       "      <th>3/22/20</th>\n",
       "      <td>231</td>\n",
       "    </tr>\n",
       "    <tr>\n",
       "      <th>3/23/20</th>\n",
       "      <td>277</td>\n",
       "    </tr>\n",
       "    <tr>\n",
       "      <th>3/24/20</th>\n",
       "      <td>378</td>\n",
       "    </tr>\n",
       "    <tr>\n",
       "      <th>3/25/20</th>\n",
       "      <td>470</td>\n",
       "    </tr>\n",
       "    <tr>\n",
       "      <th>3/26/20</th>\n",
       "      <td>491</td>\n",
       "    </tr>\n",
       "    <tr>\n",
       "      <th>3/27/20</th>\n",
       "      <td>539</td>\n",
       "    </tr>\n",
       "    <tr>\n",
       "      <th>3/28/20</th>\n",
       "      <td>608</td>\n",
       "    </tr>\n",
       "    <tr>\n",
       "      <th>3/29/20</th>\n",
       "      <td>702</td>\n",
       "    </tr>\n",
       "    <tr>\n",
       "      <th>3/30/20</th>\n",
       "      <td>798</td>\n",
       "    </tr>\n",
       "    <tr>\n",
       "      <th>3/31/20</th>\n",
       "      <td>906</td>\n",
       "    </tr>\n",
       "    <tr>\n",
       "      <th>4/1/20</th>\n",
       "      <td>1065</td>\n",
       "    </tr>\n",
       "    <tr>\n",
       "      <th>4/2/20</th>\n",
       "      <td>1161</td>\n",
       "    </tr>\n",
       "    <tr>\n",
       "      <th>4/3/20</th>\n",
       "      <td>1267</td>\n",
       "    </tr>\n",
       "    <tr>\n",
       "      <th>4/4/20</th>\n",
       "      <td>1406</td>\n",
       "    </tr>\n",
       "    <tr>\n",
       "      <th>4/5/20</th>\n",
       "      <td>1485</td>\n",
       "    </tr>\n",
       "    <tr>\n",
       "      <th>4/6/20</th>\n",
       "      <td>1579</td>\n",
       "    </tr>\n",
       "    <tr>\n",
       "      <th>4/7/20</th>\n",
       "      <td>1780</td>\n",
       "    </tr>\n",
       "    <tr>\n",
       "      <th>4/8/20</th>\n",
       "      <td>2054</td>\n",
       "    </tr>\n",
       "    <tr>\n",
       "      <th>4/9/20</th>\n",
       "      <td>2223</td>\n",
       "    </tr>\n",
       "    <tr>\n",
       "      <th>4/10/20</th>\n",
       "      <td>2473</td>\n",
       "    </tr>\n",
       "    <tr>\n",
       "      <th>4/11/20</th>\n",
       "      <td>2709</td>\n",
       "    </tr>\n",
       "    <tr>\n",
       "      <th>4/12/20</th>\n",
       "      <td>2776</td>\n",
       "    </tr>\n",
       "    <tr>\n",
       "      <th>4/13/20</th>\n",
       "      <td>2852</td>\n",
       "    </tr>\n",
       "    <tr>\n",
       "      <th>4/14/20</th>\n",
       "      <td>2979</td>\n",
       "    </tr>\n",
       "    <tr>\n",
       "      <th>4/15/20</th>\n",
       "      <td>3105</td>\n",
       "    </tr>\n",
       "    <tr>\n",
       "      <th>4/16/20</th>\n",
       "      <td>3233</td>\n",
       "    </tr>\n",
       "    <tr>\n",
       "      <th>4/17/20</th>\n",
       "      <td>3439</td>\n",
       "    </tr>\n",
       "  </tbody>\n",
       "</table>\n",
       "</div>"
      ],
      "text/plain": [
       "         cases\n",
       "3/6/20       1\n",
       "3/7/20       1\n",
       "3/8/20       1\n",
       "3/9/20       1\n",
       "3/10/20      3\n",
       "3/11/20      9\n",
       "3/12/20      9\n",
       "3/13/20     13\n",
       "3/14/20     22\n",
       "3/15/20     34\n",
       "3/16/20     54\n",
       "3/17/20     65\n",
       "3/18/20     93\n",
       "3/19/20    102\n",
       "3/20/20    128\n",
       "3/21/20    196\n",
       "3/22/20    231\n",
       "3/23/20    277\n",
       "3/24/20    378\n",
       "3/25/20    470\n",
       "3/26/20    491\n",
       "3/27/20    539\n",
       "3/28/20    608\n",
       "3/29/20    702\n",
       "3/30/20    798\n",
       "3/31/20    906\n",
       "4/1/20    1065\n",
       "4/2/20    1161\n",
       "4/3/20    1267\n",
       "4/4/20    1406\n",
       "4/5/20    1485\n",
       "4/6/20    1579\n",
       "4/7/20    1780\n",
       "4/8/20    2054\n",
       "4/9/20    2223\n",
       "4/10/20   2473\n",
       "4/11/20   2709\n",
       "4/12/20   2776\n",
       "4/13/20   2852\n",
       "4/14/20   2979\n",
       "4/15/20   3105\n",
       "4/16/20   3233\n",
       "4/17/20   3439"
      ]
     },
     "execution_count": 167,
     "metadata": {},
     "output_type": "execute_result"
    }
   ],
   "source": [
    "confirmedcasesColombia_transposed_with_cases = confirmedcasesColombia_transposed[confirmedcasesColombia_transposed['cases'] > 0]\n",
    "confirmedcasesColombia_transposed_with_cases.head(100)"
   ]
  },
  {
   "cell_type": "code",
   "execution_count": 169,
   "metadata": {
    "collapsed": true
   },
   "outputs": [
    {
     "data": {
      "text/html": [
       "<div>\n",
       "<style scoped>\n",
       "    .dataframe tbody tr th:only-of-type {\n",
       "        vertical-align: middle;\n",
       "    }\n",
       "\n",
       "    .dataframe tbody tr th {\n",
       "        vertical-align: top;\n",
       "    }\n",
       "\n",
       "    .dataframe thead th {\n",
       "        text-align: right;\n",
       "    }\n",
       "</style>\n",
       "<table border=\"1\" class=\"dataframe\">\n",
       "  <thead>\n",
       "    <tr style=\"text-align: right;\">\n",
       "      <th></th>\n",
       "      <th>cases</th>\n",
       "    </tr>\n",
       "  </thead>\n",
       "  <tbody>\n",
       "    <tr>\n",
       "      <th>3/22/20</th>\n",
       "      <td>2</td>\n",
       "    </tr>\n",
       "    <tr>\n",
       "      <th>3/23/20</th>\n",
       "      <td>3</td>\n",
       "    </tr>\n",
       "    <tr>\n",
       "      <th>3/24/20</th>\n",
       "      <td>3</td>\n",
       "    </tr>\n",
       "    <tr>\n",
       "      <th>3/25/20</th>\n",
       "      <td>4</td>\n",
       "    </tr>\n",
       "    <tr>\n",
       "      <th>3/26/20</th>\n",
       "      <td>6</td>\n",
       "    </tr>\n",
       "    <tr>\n",
       "      <th>3/27/20</th>\n",
       "      <td>6</td>\n",
       "    </tr>\n",
       "    <tr>\n",
       "      <th>3/28/20</th>\n",
       "      <td>6</td>\n",
       "    </tr>\n",
       "    <tr>\n",
       "      <th>3/29/20</th>\n",
       "      <td>10</td>\n",
       "    </tr>\n",
       "    <tr>\n",
       "      <th>3/30/20</th>\n",
       "      <td>12</td>\n",
       "    </tr>\n",
       "    <tr>\n",
       "      <th>3/31/20</th>\n",
       "      <td>16</td>\n",
       "    </tr>\n",
       "    <tr>\n",
       "      <th>4/1/20</th>\n",
       "      <td>17</td>\n",
       "    </tr>\n",
       "    <tr>\n",
       "      <th>4/2/20</th>\n",
       "      <td>19</td>\n",
       "    </tr>\n",
       "    <tr>\n",
       "      <th>4/3/20</th>\n",
       "      <td>25</td>\n",
       "    </tr>\n",
       "    <tr>\n",
       "      <th>4/4/20</th>\n",
       "      <td>32</td>\n",
       "    </tr>\n",
       "    <tr>\n",
       "      <th>4/5/20</th>\n",
       "      <td>35</td>\n",
       "    </tr>\n",
       "    <tr>\n",
       "      <th>4/6/20</th>\n",
       "      <td>46</td>\n",
       "    </tr>\n",
       "    <tr>\n",
       "      <th>4/7/20</th>\n",
       "      <td>50</td>\n",
       "    </tr>\n",
       "    <tr>\n",
       "      <th>4/8/20</th>\n",
       "      <td>54</td>\n",
       "    </tr>\n",
       "    <tr>\n",
       "      <th>4/9/20</th>\n",
       "      <td>69</td>\n",
       "    </tr>\n",
       "    <tr>\n",
       "      <th>4/10/20</th>\n",
       "      <td>80</td>\n",
       "    </tr>\n",
       "    <tr>\n",
       "      <th>4/11/20</th>\n",
       "      <td>100</td>\n",
       "    </tr>\n",
       "    <tr>\n",
       "      <th>4/12/20</th>\n",
       "      <td>109</td>\n",
       "    </tr>\n",
       "    <tr>\n",
       "      <th>4/13/20</th>\n",
       "      <td>112</td>\n",
       "    </tr>\n",
       "    <tr>\n",
       "      <th>4/14/20</th>\n",
       "      <td>127</td>\n",
       "    </tr>\n",
       "    <tr>\n",
       "      <th>4/15/20</th>\n",
       "      <td>131</td>\n",
       "    </tr>\n",
       "    <tr>\n",
       "      <th>4/16/20</th>\n",
       "      <td>144</td>\n",
       "    </tr>\n",
       "    <tr>\n",
       "      <th>4/17/20</th>\n",
       "      <td>153</td>\n",
       "    </tr>\n",
       "    <tr>\n",
       "      <th>4/18/20</th>\n",
       "      <td>153</td>\n",
       "    </tr>\n",
       "  </tbody>\n",
       "</table>\n",
       "</div>"
      ],
      "text/plain": [
       "         cases\n",
       "3/22/20      2\n",
       "3/23/20      3\n",
       "3/24/20      3\n",
       "3/25/20      4\n",
       "3/26/20      6\n",
       "3/27/20      6\n",
       "3/28/20      6\n",
       "3/29/20     10\n",
       "3/30/20     12\n",
       "3/31/20     16\n",
       "4/1/20      17\n",
       "4/2/20      19\n",
       "4/3/20      25\n",
       "4/4/20      32\n",
       "4/5/20      35\n",
       "4/6/20      46\n",
       "4/7/20      50\n",
       "4/8/20      54\n",
       "4/9/20      69\n",
       "4/10/20     80\n",
       "4/11/20    100\n",
       "4/12/20    109\n",
       "4/13/20    112\n",
       "4/14/20    127\n",
       "4/15/20    131\n",
       "4/16/20    144\n",
       "4/17/20    153\n",
       "4/18/20    153"
      ]
     },
     "execution_count": 169,
     "metadata": {},
     "output_type": "execute_result"
    }
   ],
   "source": [
    "deathcasesColombia_transposed_with_cases = deathcasesColombia_transposed[deathcasesColombia_transposed['cases'] > 0]\n",
    "deathcasesColombia_transposed_with_cases.head(100)"
   ]
  },
  {
   "cell_type": "code",
   "execution_count": 168,
   "metadata": {},
   "outputs": [
    {
     "data": {
      "text/plain": [
       "<matplotlib.axes._subplots.AxesSubplot at 0x23447f5b128>"
      ]
     },
     "execution_count": 168,
     "metadata": {},
     "output_type": "execute_result"
    },
    {
     "data": {
      "image/png": "[encoded data removed]",
      "text/plain": [
       "<Figure size 864x504 with 1 Axes>"
      ]
     },
     "metadata": {
      "needs_background": "light"
     },
     "output_type": "display_data"
    }
   ],
   "source": [
    "confirmedcasesColombia_transposed_with_cases['cases'].plot(figsize=(12,7))"
   ]
  },
  {
   "cell_type": "code",
   "execution_count": 170,
   "metadata": {},
   "outputs": [
    {
     "data": {
      "text/plain": [
       "<matplotlib.axes._subplots.AxesSubplot at 0x2344779e320>"
      ]
     },
     "execution_count": 170,
     "metadata": {},
     "output_type": "execute_result"
    },
    {
     "data": {
      "image/png": "[encoded data removed]",
      "text/plain": [
       "<Figure size 864x504 with 1 Axes>"
      ]
     },
     "metadata": {
      "needs_background": "light"
     },
     "output_type": "display_data"
    }
   ],
   "source": [
    "deathcasesColombia_transposed_with_cases['cases'].plot(figsize=(12,7))"
   ]
  },
  {
   "cell_type": "code",
   "execution_count": 179,
   "metadata": {},
   "outputs": [
    {
     "data": {
      "text/plain": [
       "43"
      ]
     },
     "execution_count": 179,
     "metadata": {},
     "output_type": "execute_result"
    }
   ],
   "source": [
    "len(confirmedcasesColombia_transposed_with_cases)"
   ]
  },
  {
   "cell_type": "markdown",
   "metadata": {},
   "source": [
    "Con esta información, que es tomada en campo, es decir, es la que daremos como \"*real*\", ya que es la información que ofrecen las autoridades colombianas, se puede eralizar un estudio de tendencia y compararlo con los modelos descritos anteriormente, para determinar qué tan fiables pueden llegar a ser, entendiendo que se deben ajustar los parámetros lo mejor posible para que también sirvan para proyecciones.\n",
    "\n",
    "Vamos a convertir la información en un arreglo a través de la biblioteca `numpy`"
   ]
  },
  {
   "cell_type": "code",
   "execution_count": 181,
   "metadata": {},
   "outputs": [
    {
     "data": {
      "text/plain": [
       "array([   1,    1,    1,    1,    3,    9,    9,   13,   22,   34,   54,\n",
       "         65,   93,  102,  128,  196,  231,  277,  378,  470,  491,  539,\n",
       "        608,  702,  798,  906, 1065, 1161, 1267, 1406, 1485, 1579, 1780,\n",
       "       2054, 2223, 2473, 2709, 2776, 2852, 2979, 3105, 3233, 3439],\n",
       "      dtype=int64)"
      ]
     },
     "execution_count": 181,
     "metadata": {},
     "output_type": "execute_result"
    }
   ],
   "source": [
    "Yc = np.array(confirmedcasesColombia_transposed_with_cases['cases'].values)\n",
    "Yc"
   ]
  },
  {
   "cell_type": "code",
   "execution_count": 182,
   "metadata": {},
   "outputs": [
    {
     "data": {
      "text/plain": [
       "array([  2,   3,   3,   4,   6,   6,   6,  10,  12,  16,  17,  19,  25,\n",
       "        32,  35,  46,  50,  54,  69,  80, 100, 109, 112, 127, 131, 144,\n",
       "       153, 153], dtype=int64)"
      ]
     },
     "execution_count": 182,
     "metadata": {},
     "output_type": "execute_result"
    }
   ],
   "source": [
    "Yd = np.array(deathcasesColombia_transposed_with_cases['cases'].values)\n",
    "Yd"
   ]
  },
  {
   "cell_type": "code",
   "execution_count": null,
   "metadata": {},
   "outputs": [],
   "source": [
    "X_b = []\n",
    "X_b.append(0)\n",
    "for index in range(1, len(Y)):\n",
    "    X_b.append(Yc[index])\n",
    "X_b = np.array(X_b)"
   ]
  },
  {
   "cell_type": "code",
   "execution_count": null,
   "metadata": {},
   "outputs": [],
   "source": []
  },
  {
   "cell_type": "code",
   "execution_count": null,
   "metadata": {},
   "outputs": [],
   "source": []
  },
  {
   "cell_type": "code",
   "execution_count": null,
   "metadata": {},
   "outputs": [],
   "source": []
  },
  {
   "cell_type": "code",
   "execution_count": null,
   "metadata": {},
   "outputs": [],
   "source": []
  },
  {
   "cell_type": "markdown",
   "metadata": {},
   "source": [
    "Ya obtumvimos la información de los casos confirmados y los decesos en los 43 días desde hace que se detectó el primer positivo. Ahora resulta interesante, o mejor dicho, importante, comparar el comportamiento de estos casos con otros países para entender el comportamiento que se ha tenido en Colombia y dar elementos para analizar y proponer posibles planes de contingencia sobre la pandemia."
   ]
  },
  {
   "cell_type": "code",
   "execution_count": null,
   "metadata": {},
   "outputs": [],
   "source": []
  }
 ],
 "metadata": {
  "kernelspec": {
   "display_name": "Python 3",
   "language": "python",
   "name": "python3"
  },
  "language_info": {
   "codemirror_mode": {
    "name": "ipython",
    "version": 3
   },
   "file_extension": ".py",
   "mimetype": "text/x-python",
   "name": "python",
   "nbconvert_exporter": "python",
   "pygments_lexer": "ipython3",
   "version": "3.6.10"
  }
 },
 "nbformat": 4,
 "nbformat_minor": 4
}
